{
 "cells": [
  {
   "cell_type": "markdown",
   "metadata": {},
   "source": [
    "## LINEAR REGRESSION"
   ]
  },
  {
   "cell_type": "markdown",
   "metadata": {},
   "source": [
    "## Importing necessary packages"
   ]
  },
  {
   "cell_type": "code",
   "execution_count": 1,
   "metadata": {},
   "outputs": [],
   "source": [
    "import numpy as np\n",
    "import pandas as pd\n",
    "import matplotlib.pyplot as plt\n",
    "import seaborn as sns\n",
    "import statsmodels.api as sm\n",
    "import scipy.stats as stats\n",
    "from scipy.stats import iqr\n",
    "from scipy.stats import shapiro\n",
    "from statsmodels.stats.diagnostic import het_breuschpagan\n",
    "import re\n",
    "import statsmodels.api as sm\n",
    "from sklearn.preprocessing import LabelEncoder\n",
    "from sklearn.preprocessing import OneHotEncoder\n",
    "from sklearn.model_selection import train_test_split\n",
    "from sklearn import linear_model\n",
    "from statsmodels.stats.stattools import durbin_watson\n",
    "from sklearn import metrics"
   ]
  },
  {
   "cell_type": "markdown",
   "metadata": {},
   "source": [
    "## Importing Data"
   ]
  },
  {
   "cell_type": "code",
   "execution_count": 2,
   "metadata": {},
   "outputs": [
    {
     "name": "stdout",
     "output_type": "stream",
     "text": [
      "(5525, 14)\n"
     ]
    },
    {
     "data": {
      "text/html": [
       "<div>\n",
       "<style scoped>\n",
       "    .dataframe tbody tr th:only-of-type {\n",
       "        vertical-align: middle;\n",
       "    }\n",
       "\n",
       "    .dataframe tbody tr th {\n",
       "        vertical-align: top;\n",
       "    }\n",
       "\n",
       "    .dataframe thead th {\n",
       "        text-align: right;\n",
       "    }\n",
       "</style>\n",
       "<table border=\"1\" class=\"dataframe\">\n",
       "  <thead>\n",
       "    <tr style=\"text-align: right;\">\n",
       "      <th></th>\n",
       "      <th>Id</th>\n",
       "      <th>Name</th>\n",
       "      <th>Location</th>\n",
       "      <th>Year</th>\n",
       "      <th>Kilometers_Driven</th>\n",
       "      <th>Fuel_Type</th>\n",
       "      <th>Transmission</th>\n",
       "      <th>Owner_Type</th>\n",
       "      <th>Mileage</th>\n",
       "      <th>Engine</th>\n",
       "      <th>Power</th>\n",
       "      <th>Seats</th>\n",
       "      <th>New_Price</th>\n",
       "      <th>Price</th>\n",
       "    </tr>\n",
       "  </thead>\n",
       "  <tbody>\n",
       "    <tr>\n",
       "      <td>0</td>\n",
       "      <td>1</td>\n",
       "      <td>Maruti Wagon R LXI CNG</td>\n",
       "      <td>Mumbai</td>\n",
       "      <td>2010</td>\n",
       "      <td>72000</td>\n",
       "      <td>CNG</td>\n",
       "      <td>Manual</td>\n",
       "      <td>First</td>\n",
       "      <td>26.6 km/kg</td>\n",
       "      <td>998 CC</td>\n",
       "      <td>58.16 bhp</td>\n",
       "      <td>5.0</td>\n",
       "      <td>NaN</td>\n",
       "      <td>1.75</td>\n",
       "    </tr>\n",
       "    <tr>\n",
       "      <td>1</td>\n",
       "      <td>2</td>\n",
       "      <td>Honda Jazz V</td>\n",
       "      <td>Chennai</td>\n",
       "      <td>2011</td>\n",
       "      <td>46000</td>\n",
       "      <td>Petrol</td>\n",
       "      <td>Manual</td>\n",
       "      <td>First</td>\n",
       "      <td>18.2 kmpl</td>\n",
       "      <td>1199 CC</td>\n",
       "      <td>88.7 bhp</td>\n",
       "      <td>5.0</td>\n",
       "      <td>8.61 Lakh</td>\n",
       "      <td>4.50</td>\n",
       "    </tr>\n",
       "    <tr>\n",
       "      <td>2</td>\n",
       "      <td>3</td>\n",
       "      <td>Maruti Ertiga VDI</td>\n",
       "      <td>Chennai</td>\n",
       "      <td>2012</td>\n",
       "      <td>87000</td>\n",
       "      <td>Diesel</td>\n",
       "      <td>Manual</td>\n",
       "      <td>First</td>\n",
       "      <td>20.77 kmpl</td>\n",
       "      <td>1248 CC</td>\n",
       "      <td>88.76 bhp</td>\n",
       "      <td>7.0</td>\n",
       "      <td>NaN</td>\n",
       "      <td>6.00</td>\n",
       "    </tr>\n",
       "    <tr>\n",
       "      <td>3</td>\n",
       "      <td>4</td>\n",
       "      <td>Audi A4 New 2.0 TDI Multitronic</td>\n",
       "      <td>Coimbatore</td>\n",
       "      <td>2013</td>\n",
       "      <td>40670</td>\n",
       "      <td>Diesel</td>\n",
       "      <td>Automatic</td>\n",
       "      <td>Second</td>\n",
       "      <td>15.2 kmpl</td>\n",
       "      <td>1968 CC</td>\n",
       "      <td>140.8 bhp</td>\n",
       "      <td>5.0</td>\n",
       "      <td>NaN</td>\n",
       "      <td>17.74</td>\n",
       "    </tr>\n",
       "    <tr>\n",
       "      <td>4</td>\n",
       "      <td>5</td>\n",
       "      <td>Hyundai EON LPG Era Plus Option</td>\n",
       "      <td>Hyderabad</td>\n",
       "      <td>2012</td>\n",
       "      <td>75000</td>\n",
       "      <td>LPG</td>\n",
       "      <td>Manual</td>\n",
       "      <td>First</td>\n",
       "      <td>21.1 km/kg</td>\n",
       "      <td>814 CC</td>\n",
       "      <td>55.2 bhp</td>\n",
       "      <td>5.0</td>\n",
       "      <td>NaN</td>\n",
       "      <td>2.35</td>\n",
       "    </tr>\n",
       "  </tbody>\n",
       "</table>\n",
       "</div>"
      ],
      "text/plain": [
       "   Id                             Name    Location  Year  Kilometers_Driven  \\\n",
       "0   1           Maruti Wagon R LXI CNG      Mumbai  2010              72000   \n",
       "1   2                     Honda Jazz V     Chennai  2011              46000   \n",
       "2   3                Maruti Ertiga VDI     Chennai  2012              87000   \n",
       "3   4  Audi A4 New 2.0 TDI Multitronic  Coimbatore  2013              40670   \n",
       "4   5  Hyundai EON LPG Era Plus Option   Hyderabad  2012              75000   \n",
       "\n",
       "  Fuel_Type Transmission Owner_Type     Mileage   Engine      Power  Seats  \\\n",
       "0       CNG       Manual      First  26.6 km/kg   998 CC  58.16 bhp    5.0   \n",
       "1    Petrol       Manual      First   18.2 kmpl  1199 CC   88.7 bhp    5.0   \n",
       "2    Diesel       Manual      First  20.77 kmpl  1248 CC  88.76 bhp    7.0   \n",
       "3    Diesel    Automatic     Second   15.2 kmpl  1968 CC  140.8 bhp    5.0   \n",
       "4       LPG       Manual      First  21.1 km/kg   814 CC   55.2 bhp    5.0   \n",
       "\n",
       "   New_Price  Price  \n",
       "0        NaN   1.75  \n",
       "1  8.61 Lakh   4.50  \n",
       "2        NaN   6.00  \n",
       "3        NaN  17.74  \n",
       "4        NaN   2.35  "
      ]
     },
     "execution_count": 2,
     "metadata": {},
     "output_type": "execute_result"
    }
   ],
   "source": [
    "train = pd.read_excel(r'Data_Train.xlsx')\n",
    "print(train.shape)\n",
    "train.head()"
   ]
  },
  {
   "cell_type": "code",
   "execution_count": 5,
   "metadata": {},
   "outputs": [
    {
     "name": "stdout",
     "output_type": "stream",
     "text": [
      "(494, 13)\n"
     ]
    },
    {
     "data": {
      "text/html": [
       "<div>\n",
       "<style scoped>\n",
       "    .dataframe tbody tr th:only-of-type {\n",
       "        vertical-align: middle;\n",
       "    }\n",
       "\n",
       "    .dataframe tbody tr th {\n",
       "        vertical-align: top;\n",
       "    }\n",
       "\n",
       "    .dataframe thead th {\n",
       "        text-align: right;\n",
       "    }\n",
       "</style>\n",
       "<table border=\"1\" class=\"dataframe\">\n",
       "  <thead>\n",
       "    <tr style=\"text-align: right;\">\n",
       "      <th></th>\n",
       "      <th>Id</th>\n",
       "      <th>Name</th>\n",
       "      <th>Location</th>\n",
       "      <th>Year</th>\n",
       "      <th>Kilometers_Driven</th>\n",
       "      <th>Fuel_Type</th>\n",
       "      <th>Transmission</th>\n",
       "      <th>Owner_Type</th>\n",
       "      <th>Mileage</th>\n",
       "      <th>Engine</th>\n",
       "      <th>Power</th>\n",
       "      <th>Seats</th>\n",
       "      <th>New_Price</th>\n",
       "    </tr>\n",
       "  </thead>\n",
       "  <tbody>\n",
       "    <tr>\n",
       "      <td>0</td>\n",
       "      <td>7084</td>\n",
       "      <td>Audi A4 2.0 TDI</td>\n",
       "      <td>Kolkata</td>\n",
       "      <td>2009</td>\n",
       "      <td>34000</td>\n",
       "      <td>Diesel</td>\n",
       "      <td>Automatic</td>\n",
       "      <td>First</td>\n",
       "      <td>16.55 kmpl</td>\n",
       "      <td>1968 CC</td>\n",
       "      <td>147.51 bhp</td>\n",
       "      <td>5.0</td>\n",
       "      <td>NaN</td>\n",
       "    </tr>\n",
       "    <tr>\n",
       "      <td>1</td>\n",
       "      <td>7178</td>\n",
       "      <td>Audi A4 2.0 TDI</td>\n",
       "      <td>Mumbai</td>\n",
       "      <td>2013</td>\n",
       "      <td>45200</td>\n",
       "      <td>Diesel</td>\n",
       "      <td>Automatic</td>\n",
       "      <td>First</td>\n",
       "      <td>16.55 kmpl</td>\n",
       "      <td>1968 CC</td>\n",
       "      <td>147.51 bhp</td>\n",
       "      <td>5.0</td>\n",
       "      <td>NaN</td>\n",
       "    </tr>\n",
       "    <tr>\n",
       "      <td>2</td>\n",
       "      <td>7447</td>\n",
       "      <td>Audi A4 2.0 TDI 177 Bhp Premium Plus</td>\n",
       "      <td>Bangalore</td>\n",
       "      <td>2014</td>\n",
       "      <td>29063</td>\n",
       "      <td>Diesel</td>\n",
       "      <td>Automatic</td>\n",
       "      <td>First</td>\n",
       "      <td>17.11 kmpl</td>\n",
       "      <td>1968 CC</td>\n",
       "      <td>174.33 bhp</td>\n",
       "      <td>5.0</td>\n",
       "      <td>NaN</td>\n",
       "    </tr>\n",
       "    <tr>\n",
       "      <td>3</td>\n",
       "      <td>7006</td>\n",
       "      <td>Audi A4 2.0 TDI Multitronic</td>\n",
       "      <td>Jaipur</td>\n",
       "      <td>2012</td>\n",
       "      <td>65664</td>\n",
       "      <td>Diesel</td>\n",
       "      <td>Automatic</td>\n",
       "      <td>First</td>\n",
       "      <td>16.55 kmpl</td>\n",
       "      <td>1968 CC</td>\n",
       "      <td>140 bhp</td>\n",
       "      <td>5.0</td>\n",
       "      <td>NaN</td>\n",
       "    </tr>\n",
       "    <tr>\n",
       "      <td>4</td>\n",
       "      <td>7159</td>\n",
       "      <td>Audi A4 3.0 TDI Quattro Premium</td>\n",
       "      <td>Coimbatore</td>\n",
       "      <td>2012</td>\n",
       "      <td>46913</td>\n",
       "      <td>Diesel</td>\n",
       "      <td>Automatic</td>\n",
       "      <td>First</td>\n",
       "      <td>14.94 kmpl</td>\n",
       "      <td>2967 CC</td>\n",
       "      <td>241.4 bhp</td>\n",
       "      <td>5.0</td>\n",
       "      <td>NaN</td>\n",
       "    </tr>\n",
       "  </tbody>\n",
       "</table>\n",
       "</div>"
      ],
      "text/plain": [
       "     Id                                  Name    Location  Year  \\\n",
       "0  7084                       Audi A4 2.0 TDI     Kolkata  2009   \n",
       "1  7178                       Audi A4 2.0 TDI      Mumbai  2013   \n",
       "2  7447  Audi A4 2.0 TDI 177 Bhp Premium Plus   Bangalore  2014   \n",
       "3  7006           Audi A4 2.0 TDI Multitronic      Jaipur  2012   \n",
       "4  7159       Audi A4 3.0 TDI Quattro Premium  Coimbatore  2012   \n",
       "\n",
       "   Kilometers_Driven Fuel_Type Transmission Owner_Type     Mileage   Engine  \\\n",
       "0              34000    Diesel    Automatic      First  16.55 kmpl  1968 CC   \n",
       "1              45200    Diesel    Automatic      First  16.55 kmpl  1968 CC   \n",
       "2              29063    Diesel    Automatic      First  17.11 kmpl  1968 CC   \n",
       "3              65664    Diesel    Automatic      First  16.55 kmpl  1968 CC   \n",
       "4              46913    Diesel    Automatic      First  14.94 kmpl  2967 CC   \n",
       "\n",
       "        Power  Seats New_Price  \n",
       "0  147.51 bhp    5.0       NaN  \n",
       "1  147.51 bhp    5.0       NaN  \n",
       "2  174.33 bhp    5.0       NaN  \n",
       "3     140 bhp    5.0       NaN  \n",
       "4   241.4 bhp    5.0       NaN  "
      ]
     },
     "execution_count": 5,
     "metadata": {},
     "output_type": "execute_result"
    }
   ],
   "source": [
    "test = pd.read_excel(r'Data_Test.xlsx')\n",
    "print(test.shape)\n",
    "test.head()"
   ]
  },
  {
   "cell_type": "markdown",
   "metadata": {},
   "source": [
    "## Exploratory Data Analysis"
   ]
  },
  {
   "cell_type": "code",
   "execution_count": 3,
   "metadata": {},
   "outputs": [
    {
     "name": "stdout",
     "output_type": "stream",
     "text": [
      "<class 'pandas.core.frame.DataFrame'>\n",
      "RangeIndex: 5525 entries, 0 to 5524\n",
      "Data columns (total 14 columns):\n",
      "Id                   5525 non-null int64\n",
      "Name                 5525 non-null object\n",
      "Location             5525 non-null object\n",
      "Year                 5525 non-null int64\n",
      "Kilometers_Driven    5525 non-null int64\n",
      "Fuel_Type            5525 non-null object\n",
      "Transmission         5525 non-null object\n",
      "Owner_Type           5525 non-null object\n",
      "Mileage              5523 non-null object\n",
      "Engine               5492 non-null object\n",
      "Power                5492 non-null object\n",
      "Seats                5486 non-null float64\n",
      "New_Price            768 non-null object\n",
      "Price                5525 non-null float64\n",
      "dtypes: float64(2), int64(3), object(9)\n",
      "memory usage: 604.4+ KB\n"
     ]
    }
   ],
   "source": [
    "train.info()"
   ]
  },
  {
   "cell_type": "code",
   "execution_count": 6,
   "metadata": {},
   "outputs": [
    {
     "name": "stdout",
     "output_type": "stream",
     "text": [
      "<class 'pandas.core.frame.DataFrame'>\n",
      "RangeIndex: 494 entries, 0 to 493\n",
      "Data columns (total 13 columns):\n",
      "Id                   494 non-null int64\n",
      "Name                 494 non-null object\n",
      "Location             494 non-null object\n",
      "Year                 494 non-null int64\n",
      "Kilometers_Driven    494 non-null int64\n",
      "Fuel_Type            494 non-null object\n",
      "Transmission         494 non-null object\n",
      "Owner_Type           494 non-null object\n",
      "Mileage              494 non-null object\n",
      "Engine               491 non-null object\n",
      "Power                491 non-null object\n",
      "Seats                491 non-null float64\n",
      "New_Price            56 non-null object\n",
      "dtypes: float64(1), int64(3), object(9)\n",
      "memory usage: 50.3+ KB\n"
     ]
    }
   ],
   "source": [
    "test.info()"
   ]
  },
  {
   "cell_type": "code",
   "execution_count": 7,
   "metadata": {},
   "outputs": [
    {
     "data": {
      "text/html": [
       "<div>\n",
       "<style scoped>\n",
       "    .dataframe tbody tr th:only-of-type {\n",
       "        vertical-align: middle;\n",
       "    }\n",
       "\n",
       "    .dataframe tbody tr th {\n",
       "        vertical-align: top;\n",
       "    }\n",
       "\n",
       "    .dataframe thead th {\n",
       "        text-align: right;\n",
       "    }\n",
       "</style>\n",
       "<table border=\"1\" class=\"dataframe\">\n",
       "  <thead>\n",
       "    <tr style=\"text-align: right;\">\n",
       "      <th></th>\n",
       "      <th>Id</th>\n",
       "      <th>Year</th>\n",
       "      <th>Kilometers_Driven</th>\n",
       "      <th>Seats</th>\n",
       "      <th>Price</th>\n",
       "    </tr>\n",
       "  </thead>\n",
       "  <tbody>\n",
       "    <tr>\n",
       "      <td>count</td>\n",
       "      <td>5525.00000</td>\n",
       "      <td>5525.000000</td>\n",
       "      <td>5.525000e+03</td>\n",
       "      <td>5486.000000</td>\n",
       "      <td>5525.000000</td>\n",
       "    </tr>\n",
       "    <tr>\n",
       "      <td>mean</td>\n",
       "      <td>2763.00000</td>\n",
       "      <td>2013.376652</td>\n",
       "      <td>5.886062e+04</td>\n",
       "      <td>5.282537</td>\n",
       "      <td>9.537178</td>\n",
       "    </tr>\n",
       "    <tr>\n",
       "      <td>std</td>\n",
       "      <td>1595.07445</td>\n",
       "      <td>3.269380</td>\n",
       "      <td>9.481784e+04</td>\n",
       "      <td>0.811277</td>\n",
       "      <td>11.105558</td>\n",
       "    </tr>\n",
       "    <tr>\n",
       "      <td>min</td>\n",
       "      <td>1.00000</td>\n",
       "      <td>1998.000000</td>\n",
       "      <td>1.710000e+02</td>\n",
       "      <td>0.000000</td>\n",
       "      <td>0.450000</td>\n",
       "    </tr>\n",
       "    <tr>\n",
       "      <td>25%</td>\n",
       "      <td>1382.00000</td>\n",
       "      <td>2011.000000</td>\n",
       "      <td>3.355800e+04</td>\n",
       "      <td>5.000000</td>\n",
       "      <td>3.500000</td>\n",
       "    </tr>\n",
       "    <tr>\n",
       "      <td>50%</td>\n",
       "      <td>2763.00000</td>\n",
       "      <td>2014.000000</td>\n",
       "      <td>5.300000e+04</td>\n",
       "      <td>5.000000</td>\n",
       "      <td>5.700000</td>\n",
       "    </tr>\n",
       "    <tr>\n",
       "      <td>75%</td>\n",
       "      <td>4144.00000</td>\n",
       "      <td>2016.000000</td>\n",
       "      <td>7.300000e+04</td>\n",
       "      <td>5.000000</td>\n",
       "      <td>10.000000</td>\n",
       "    </tr>\n",
       "    <tr>\n",
       "      <td>max</td>\n",
       "      <td>5525.00000</td>\n",
       "      <td>2019.000000</td>\n",
       "      <td>6.500000e+06</td>\n",
       "      <td>10.000000</td>\n",
       "      <td>120.000000</td>\n",
       "    </tr>\n",
       "  </tbody>\n",
       "</table>\n",
       "</div>"
      ],
      "text/plain": [
       "               Id         Year  Kilometers_Driven        Seats        Price\n",
       "count  5525.00000  5525.000000       5.525000e+03  5486.000000  5525.000000\n",
       "mean   2763.00000  2013.376652       5.886062e+04     5.282537     9.537178\n",
       "std    1595.07445     3.269380       9.481784e+04     0.811277    11.105558\n",
       "min       1.00000  1998.000000       1.710000e+02     0.000000     0.450000\n",
       "25%    1382.00000  2011.000000       3.355800e+04     5.000000     3.500000\n",
       "50%    2763.00000  2014.000000       5.300000e+04     5.000000     5.700000\n",
       "75%    4144.00000  2016.000000       7.300000e+04     5.000000    10.000000\n",
       "max    5525.00000  2019.000000       6.500000e+06    10.000000   120.000000"
      ]
     },
     "execution_count": 7,
     "metadata": {},
     "output_type": "execute_result"
    }
   ],
   "source": [
    "train.describe()"
   ]
  },
  {
   "cell_type": "code",
   "execution_count": 8,
   "metadata": {},
   "outputs": [
    {
     "data": {
      "text/html": [
       "<div>\n",
       "<style scoped>\n",
       "    .dataframe tbody tr th:only-of-type {\n",
       "        vertical-align: middle;\n",
       "    }\n",
       "\n",
       "    .dataframe tbody tr th {\n",
       "        vertical-align: top;\n",
       "    }\n",
       "\n",
       "    .dataframe thead th {\n",
       "        text-align: right;\n",
       "    }\n",
       "</style>\n",
       "<table border=\"1\" class=\"dataframe\">\n",
       "  <thead>\n",
       "    <tr style=\"text-align: right;\">\n",
       "      <th></th>\n",
       "      <th>Id</th>\n",
       "      <th>Year</th>\n",
       "      <th>Kilometers_Driven</th>\n",
       "      <th>Seats</th>\n",
       "    </tr>\n",
       "  </thead>\n",
       "  <tbody>\n",
       "    <tr>\n",
       "      <td>count</td>\n",
       "      <td>494.000000</td>\n",
       "      <td>494.000000</td>\n",
       "      <td>494.000000</td>\n",
       "      <td>491.000000</td>\n",
       "    </tr>\n",
       "    <tr>\n",
       "      <td>mean</td>\n",
       "      <td>7247.500000</td>\n",
       "      <td>2013.151822</td>\n",
       "      <td>57371.248988</td>\n",
       "      <td>5.236253</td>\n",
       "    </tr>\n",
       "    <tr>\n",
       "      <td>std</td>\n",
       "      <td>142.749781</td>\n",
       "      <td>3.270004</td>\n",
       "      <td>30739.547419</td>\n",
       "      <td>0.780626</td>\n",
       "    </tr>\n",
       "    <tr>\n",
       "      <td>min</td>\n",
       "      <td>7001.000000</td>\n",
       "      <td>2001.000000</td>\n",
       "      <td>4000.000000</td>\n",
       "      <td>2.000000</td>\n",
       "    </tr>\n",
       "    <tr>\n",
       "      <td>25%</td>\n",
       "      <td>7124.250000</td>\n",
       "      <td>2011.000000</td>\n",
       "      <td>35703.500000</td>\n",
       "      <td>5.000000</td>\n",
       "    </tr>\n",
       "    <tr>\n",
       "      <td>50%</td>\n",
       "      <td>7247.500000</td>\n",
       "      <td>2013.000000</td>\n",
       "      <td>54750.000000</td>\n",
       "      <td>5.000000</td>\n",
       "    </tr>\n",
       "    <tr>\n",
       "      <td>75%</td>\n",
       "      <td>7370.750000</td>\n",
       "      <td>2016.000000</td>\n",
       "      <td>72534.000000</td>\n",
       "      <td>5.000000</td>\n",
       "    </tr>\n",
       "    <tr>\n",
       "      <td>max</td>\n",
       "      <td>7494.000000</td>\n",
       "      <td>2019.000000</td>\n",
       "      <td>180000.000000</td>\n",
       "      <td>8.000000</td>\n",
       "    </tr>\n",
       "  </tbody>\n",
       "</table>\n",
       "</div>"
      ],
      "text/plain": [
       "                Id         Year  Kilometers_Driven       Seats\n",
       "count   494.000000   494.000000         494.000000  491.000000\n",
       "mean   7247.500000  2013.151822       57371.248988    5.236253\n",
       "std     142.749781     3.270004       30739.547419    0.780626\n",
       "min    7001.000000  2001.000000        4000.000000    2.000000\n",
       "25%    7124.250000  2011.000000       35703.500000    5.000000\n",
       "50%    7247.500000  2013.000000       54750.000000    5.000000\n",
       "75%    7370.750000  2016.000000       72534.000000    5.000000\n",
       "max    7494.000000  2019.000000      180000.000000    8.000000"
      ]
     },
     "execution_count": 8,
     "metadata": {},
     "output_type": "execute_result"
    }
   ],
   "source": [
    "test.describe()"
   ]
  },
  {
   "cell_type": "code",
   "execution_count": 9,
   "metadata": {},
   "outputs": [
    {
     "data": {
      "text/plain": [
       "(array([4.391e+03, 6.380e+02, 2.910e+02, 1.100e+02, 5.200e+01, 2.700e+01,\n",
       "        9.000e+00, 4.000e+00, 2.000e+00, 1.000e+00]),\n",
       " array([  0.45 ,  12.405,  24.36 ,  36.315,  48.27 ,  60.225,  72.18 ,\n",
       "         84.135,  96.09 , 108.045, 120.   ]),\n",
       " <a list of 10 Patch objects>)"
      ]
     },
     "execution_count": 9,
     "metadata": {},
     "output_type": "execute_result"
    },
    {
     "data": {
      "image/png": "[encoded data removed]",
      "text/plain": [
       "<Figure size 432x288 with 1 Axes>"
      ]
     },
     "metadata": {
      "needs_background": "light"
     },
     "output_type": "display_data"
    }
   ],
   "source": [
    "## Let's check the distribution of the Target variable\n",
    "plt.hist(train['Price'])"
   ]
  },
  {
   "cell_type": "markdown",
   "metadata": {},
   "source": [
    "## The target variable looks so skewed. Let's transform it using log function"
   ]
  },
  {
   "cell_type": "code",
   "execution_count": 10,
   "metadata": {},
   "outputs": [
    {
     "data": {
      "text/plain": [
       "(array([  29.,  131.,  438., 1255., 1663.,  927.,  523.,  386.,  148.,\n",
       "          25.]),\n",
       " array([-0.7985077 , -0.23990775,  0.31869219,  0.87729214,  1.43589208,\n",
       "         1.99449202,  2.55309197,  3.11169191,  3.67029185,  4.2288918 ,\n",
       "         4.78749174]),\n",
       " <a list of 10 Patch objects>)"
      ]
     },
     "execution_count": 10,
     "metadata": {},
     "output_type": "execute_result"
    },
    {
     "data": {
      "image/png": "[encoded data removed]",
      "text/plain": [
       "<Figure size 432x288 with 1 Axes>"
      ]
     },
     "metadata": {
      "needs_background": "light"
     },
     "output_type": "display_data"
    }
   ],
   "source": [
    "log_price = np.log(train['Price'])\n",
    "train['log_price'] = log_price\n",
    "plt.hist(log_price)"
   ]
  },
  {
   "cell_type": "markdown",
   "metadata": {},
   "source": [
    "## This looks almost like a bell shaped curve."
   ]
  },
  {
   "cell_type": "code",
   "execution_count": null,
   "metadata": {},
   "outputs": [],
   "source": []
  },
  {
   "cell_type": "code",
   "execution_count": null,
   "metadata": {},
   "outputs": [],
   "source": []
  },
  {
   "cell_type": "markdown",
   "metadata": {},
   "source": [
    "## Missing Values Treatment"
   ]
  },
  {
   "cell_type": "code",
   "execution_count": 9,
   "metadata": {},
   "outputs": [
    {
     "data": {
      "text/plain": [
       "Id                    0.000000\n",
       "Name                  0.000000\n",
       "Location              0.000000\n",
       "Year                  0.000000\n",
       "Kilometers_Driven     0.000000\n",
       "Fuel_Type             0.000000\n",
       "Transmission          0.000000\n",
       "Owner_Type            0.000000\n",
       "Mileage               0.036199\n",
       "Engine                0.597285\n",
       "Power                 0.597285\n",
       "Seats                 0.705882\n",
       "New_Price            86.099548\n",
       "Price                 0.000000\n",
       "dtype: float64"
      ]
     },
     "execution_count": 9,
     "metadata": {},
     "output_type": "execute_result"
    }
   ],
   "source": [
    "## Missing values % in Train Data\n",
    "(train.isna().sum()/train.shape[0])*100"
   ]
  },
  {
   "cell_type": "code",
   "execution_count": 4,
   "metadata": {},
   "outputs": [
    {
     "ename": "NameError",
     "evalue": "name 'test' is not defined",
     "output_type": "error",
     "traceback": [
      "\u001b[1;31m---------------------------------------------------------------------------\u001b[0m",
      "\u001b[1;31mNameError\u001b[0m                                 Traceback (most recent call last)",
      "\u001b[1;32m<ipython-input-4-7eb8f8b3c9a0>\u001b[0m in \u001b[0;36m<module>\u001b[1;34m\u001b[0m\n\u001b[0;32m      1\u001b[0m \u001b[1;31m## Missing values % in test Data\u001b[0m\u001b[1;33m\u001b[0m\u001b[1;33m\u001b[0m\u001b[1;33m\u001b[0m\u001b[0m\n\u001b[1;32m----> 2\u001b[1;33m \u001b[1;33m(\u001b[0m\u001b[0mtest\u001b[0m\u001b[1;33m.\u001b[0m\u001b[0misna\u001b[0m\u001b[1;33m(\u001b[0m\u001b[1;33m)\u001b[0m\u001b[1;33m.\u001b[0m\u001b[0msum\u001b[0m\u001b[1;33m(\u001b[0m\u001b[1;33m)\u001b[0m\u001b[1;33m/\u001b[0m\u001b[0mtest\u001b[0m\u001b[1;33m.\u001b[0m\u001b[0mshape\u001b[0m\u001b[1;33m[\u001b[0m\u001b[1;36m0\u001b[0m\u001b[1;33m]\u001b[0m\u001b[1;33m)\u001b[0m\u001b[1;33m*\u001b[0m\u001b[1;36m100\u001b[0m\u001b[1;33m\u001b[0m\u001b[1;33m\u001b[0m\u001b[0m\n\u001b[0m",
      "\u001b[1;31mNameError\u001b[0m: name 'test' is not defined"
     ]
    }
   ],
   "source": [
    "## Missing values % in test Data\n",
    "(test.isna().sum()/test.shape[0])*100"
   ]
  },
  {
   "cell_type": "markdown",
   "metadata": {},
   "source": [
    "### New_Price column has >85% of Data missing. It makes no sense for me to include this column in my model"
   ]
  },
  {
   "cell_type": "markdown",
   "metadata": {},
   "source": [
    "### Pre-processing "
   ]
  },
  {
   "cell_type": "code",
   "execution_count": 14,
   "metadata": {},
   "outputs": [
    {
     "data": {
      "text/html": [
       "<div>\n",
       "<style scoped>\n",
       "    .dataframe tbody tr th:only-of-type {\n",
       "        vertical-align: middle;\n",
       "    }\n",
       "\n",
       "    .dataframe tbody tr th {\n",
       "        vertical-align: top;\n",
       "    }\n",
       "\n",
       "    .dataframe thead th {\n",
       "        text-align: right;\n",
       "    }\n",
       "</style>\n",
       "<table border=\"1\" class=\"dataframe\">\n",
       "  <thead>\n",
       "    <tr style=\"text-align: right;\">\n",
       "      <th></th>\n",
       "      <th>Id</th>\n",
       "      <th>Year</th>\n",
       "      <th>Kilometers_Driven</th>\n",
       "      <th>Seats</th>\n",
       "      <th>Price</th>\n",
       "      <th>log_price</th>\n",
       "    </tr>\n",
       "  </thead>\n",
       "  <tbody>\n",
       "    <tr>\n",
       "      <th>count</th>\n",
       "      <td>5525.00000</td>\n",
       "      <td>5525.000000</td>\n",
       "      <td>5.525000e+03</td>\n",
       "      <td>5486.000000</td>\n",
       "      <td>5525.000000</td>\n",
       "      <td>5525.000000</td>\n",
       "    </tr>\n",
       "    <tr>\n",
       "      <th>mean</th>\n",
       "      <td>2763.00000</td>\n",
       "      <td>2013.376652</td>\n",
       "      <td>5.886062e+04</td>\n",
       "      <td>5.282537</td>\n",
       "      <td>9.537178</td>\n",
       "      <td>1.833723</td>\n",
       "    </tr>\n",
       "    <tr>\n",
       "      <th>std</th>\n",
       "      <td>1595.07445</td>\n",
       "      <td>3.269380</td>\n",
       "      <td>9.481784e+04</td>\n",
       "      <td>0.811277</td>\n",
       "      <td>11.105558</td>\n",
       "      <td>0.873156</td>\n",
       "    </tr>\n",
       "    <tr>\n",
       "      <th>min</th>\n",
       "      <td>1.00000</td>\n",
       "      <td>1998.000000</td>\n",
       "      <td>1.710000e+02</td>\n",
       "      <td>0.000000</td>\n",
       "      <td>0.450000</td>\n",
       "      <td>-0.798508</td>\n",
       "    </tr>\n",
       "    <tr>\n",
       "      <th>25%</th>\n",
       "      <td>1382.00000</td>\n",
       "      <td>2011.000000</td>\n",
       "      <td>3.355800e+04</td>\n",
       "      <td>5.000000</td>\n",
       "      <td>3.500000</td>\n",
       "      <td>1.252763</td>\n",
       "    </tr>\n",
       "    <tr>\n",
       "      <th>50%</th>\n",
       "      <td>2763.00000</td>\n",
       "      <td>2014.000000</td>\n",
       "      <td>5.300000e+04</td>\n",
       "      <td>5.000000</td>\n",
       "      <td>5.700000</td>\n",
       "      <td>1.740466</td>\n",
       "    </tr>\n",
       "    <tr>\n",
       "      <th>75%</th>\n",
       "      <td>4144.00000</td>\n",
       "      <td>2016.000000</td>\n",
       "      <td>7.300000e+04</td>\n",
       "      <td>5.000000</td>\n",
       "      <td>10.000000</td>\n",
       "      <td>2.302585</td>\n",
       "    </tr>\n",
       "    <tr>\n",
       "      <th>max</th>\n",
       "      <td>5525.00000</td>\n",
       "      <td>2019.000000</td>\n",
       "      <td>6.500000e+06</td>\n",
       "      <td>10.000000</td>\n",
       "      <td>120.000000</td>\n",
       "      <td>4.787492</td>\n",
       "    </tr>\n",
       "  </tbody>\n",
       "</table>\n",
       "</div>"
      ],
      "text/plain": [
       "               Id         Year  Kilometers_Driven        Seats        Price  \\\n",
       "count  5525.00000  5525.000000       5.525000e+03  5486.000000  5525.000000   \n",
       "mean   2763.00000  2013.376652       5.886062e+04     5.282537     9.537178   \n",
       "std    1595.07445     3.269380       9.481784e+04     0.811277    11.105558   \n",
       "min       1.00000  1998.000000       1.710000e+02     0.000000     0.450000   \n",
       "25%    1382.00000  2011.000000       3.355800e+04     5.000000     3.500000   \n",
       "50%    2763.00000  2014.000000       5.300000e+04     5.000000     5.700000   \n",
       "75%    4144.00000  2016.000000       7.300000e+04     5.000000    10.000000   \n",
       "max    5525.00000  2019.000000       6.500000e+06    10.000000   120.000000   \n",
       "\n",
       "         log_price  \n",
       "count  5525.000000  \n",
       "mean      1.833723  \n",
       "std       0.873156  \n",
       "min      -0.798508  \n",
       "25%       1.252763  \n",
       "50%       1.740466  \n",
       "75%       2.302585  \n",
       "max       4.787492  "
      ]
     },
     "execution_count": 14,
     "metadata": {},
     "output_type": "execute_result"
    }
   ],
   "source": [
    "train.describe()"
   ]
  },
  {
   "cell_type": "code",
   "execution_count": 15,
   "metadata": {},
   "outputs": [
    {
     "name": "stdout",
     "output_type": "stream",
     "text": [
      "<class 'pandas.core.frame.DataFrame'>\n",
      "RangeIndex: 5525 entries, 0 to 5524\n",
      "Data columns (total 15 columns):\n",
      "Id                   5525 non-null int64\n",
      "Name                 5525 non-null object\n",
      "Location             5525 non-null object\n",
      "Year                 5525 non-null int64\n",
      "Kilometers_Driven    5525 non-null int64\n",
      "Fuel_Type            5525 non-null object\n",
      "Transmission         5525 non-null object\n",
      "Owner_Type           5525 non-null object\n",
      "Mileage              5523 non-null object\n",
      "Engine               5492 non-null object\n",
      "Power                5492 non-null object\n",
      "Seats                5486 non-null float64\n",
      "New_Price            768 non-null object\n",
      "Price                5525 non-null float64\n",
      "log_price            5525 non-null float64\n",
      "dtypes: float64(3), int64(3), object(9)\n",
      "memory usage: 647.6+ KB\n"
     ]
    }
   ],
   "source": [
    "train.info()"
   ]
  },
  {
   "cell_type": "markdown",
   "metadata": {},
   "source": [
    "### I want Seats to be as Categorical data.Since, I think it can't have values like 4.4"
   ]
  },
  {
   "cell_type": "code",
   "execution_count": 16,
   "metadata": {},
   "outputs": [
    {
     "data": {
      "text/plain": [
       "Id                      0\n",
       "Name                    0\n",
       "Location                0\n",
       "Year                    0\n",
       "Kilometers_Driven       0\n",
       "Fuel_Type               0\n",
       "Transmission            0\n",
       "Owner_Type              0\n",
       "Mileage                 2\n",
       "Engine                 33\n",
       "Power                  33\n",
       "Seats                  39\n",
       "New_Price            4757\n",
       "Price                   0\n",
       "log_price               0\n",
       "dtype: int64"
      ]
     },
     "execution_count": 16,
     "metadata": {},
     "output_type": "execute_result"
    }
   ],
   "source": [
    "train.isna().sum()"
   ]
  },
  {
   "cell_type": "code",
   "execution_count": 17,
   "metadata": {},
   "outputs": [
    {
     "data": {
      "text/plain": [
       "Diesel      2964\n",
       "Petrol      2497\n",
       "CNG           53\n",
       "LPG            9\n",
       "Electric       2\n",
       "Name: Fuel_Type, dtype: int64"
      ]
     },
     "execution_count": 17,
     "metadata": {},
     "output_type": "execute_result"
    }
   ],
   "source": [
    "train['Fuel_Type'].value_counts()"
   ]
  },
  {
   "cell_type": "markdown",
   "metadata": {},
   "source": [
    "### I want to convert the kmpl to km/kg so as to maintain the same unit in the Mileage column."
   ]
  },
  {
   "cell_type": "markdown",
   "metadata": {},
   "source": [
    "## The density of petroleum diesel is about 0.85 kg/l – about 15–20% higher than the density of gasoline, which has a density of  approximately 0.70–0.75 kg/l\n",
    "### Density\n",
    "### Petrol - 0.75 ; Diesel - 0.85\n",
    "## reference : https://www.sciencedirect.com/topics/engineering/diesel-fuel"
   ]
  },
  {
   "cell_type": "code",
   "execution_count": null,
   "metadata": {},
   "outputs": [],
   "source": []
  },
  {
   "cell_type": "code",
   "execution_count": null,
   "metadata": {},
   "outputs": [],
   "source": []
  },
  {
   "cell_type": "code",
   "execution_count": 18,
   "metadata": {},
   "outputs": [],
   "source": [
    "## Pre-processing\n",
    "\n",
    "train = train.drop(columns = ['New_Price'])\n",
    "\n",
    "## REMOVING UNITS ##########\n",
    "train.Engine = train.Engine.str.replace(pat=r' CC',repl='',regex=True)\n",
    "train.Mileage = train.Mileage.str.replace(pat=r'(\\skm\\/kg)|(\\skmpl)',repl='',regex=True)\n",
    "train.Power = train.Power.str.replace(pat=r' bhp',repl='',regex=True)\n",
    "\n",
    "##For records with \"null bhp\" as Power, I'm imputing with NaN's\n",
    "train.loc[(train['Power'] == 'null'),'Power'] = np.nan\n",
    "\n",
    "##For records with \"0.0\" as Mileage, I'm imputing with NaN's\n",
    "train.loc[(train['Mileage'] == 0),'Mileage'] = np.nan\n",
    "\n",
    "##For records with \"0\" as Seats, I'm imputing with NaN's\n",
    "train.loc[(train['Seats'] == 0),'Seats'] = np.nan\n",
    "train.Engine = train.Engine.astype(float)\n",
    "train.Mileage = train.Mileage.astype(float)\n",
    "train.Power = train.Power.astype(float)\n",
    "\n",
    "## Converting the kmpl in Mileage to km/kg using the density of Petrol & diesel(this would be approximate.\n",
    "## Since the density number is an approx figure)\n",
    "train.loc[(train['Fuel_Type'] == 'Diesel'),'Mileage'] = train.loc[(train['Fuel_Type'] == 'Diesel'),'Mileage']/(0.85)\n",
    "train.loc[(train['Fuel_Type'] == 'Petrol'),'Mileage'] = train.loc[(train['Fuel_Type'] == 'Petrol'),'Mileage']/(0.75)\n",
    "\n",
    "## Electric Cars don't have mileage. So we can impute mileage with 0 for these 2 records\n",
    "train.loc[(train['Fuel_Type'] == 'Electric'),'Mileage'] = 0\n",
    "\n",
    "## Including Brand as a variable & create dummies of the Brand column.\n",
    "def get_brand_name(car_name):\n",
    "    first_word = re.split(pattern=' ',string=car_name.lower())[0] \n",
    "    land_rover_rep = re.sub(pattern=r'\\bland\\b',repl='land rover',string= first_word)\n",
    "    smart_rep = re.sub(pattern=r'\\bsmart\\b',repl='daimler-benz',string= land_rover_rep)\n",
    "    return smart_rep\n",
    "\n",
    "## Since only first word can't capture the brand name for all the cars.I have gone through the data& found out the brands with more \n",
    "## than 1 word\n",
    "train['Brand'] = train['Name'].apply(get_brand_name)"
   ]
  },
  {
   "cell_type": "markdown",
   "metadata": {},
   "source": [
    "### MISSING VALUES IMPUTATION"
   ]
  },
  {
   "cell_type": "markdown",
   "metadata": {},
   "source": [
    "### For missing values of seats, power, Engine, Mileage.I followed this approach :\n",
    "### Created a dictionary for all cars & their mean value of the Attribute(Power/Mileage, etc.,) & used the dictionary to impute the missing values when we found those cars in missing data "
   ]
  },
  {
   "cell_type": "code",
   "execution_count": 19,
   "metadata": {},
   "outputs": [
    {
     "name": "stdout",
     "output_type": "stream",
     "text": [
      "new_train shape : (5419, 15)\n",
      "Missing Values percentage:  1.9185520361990949\n",
      "Missing Values count:  106\n"
     ]
    }
   ],
   "source": [
    "non_missing_data_average = train.loc[pd.notnull(train.Power) == True].groupby('Name').mean()[['Power','Seats','Engine','Mileage']]\n",
    "\n",
    "### dictionary created ##\n",
    "power_dict = non_missing_data_average['Power'].to_dict()\n",
    "seats_dict = non_missing_data_average['Seats'].to_dict()\n",
    "engine_dict = non_missing_data_average['Engine'].to_dict()\n",
    "mileage_dict = non_missing_data_average['Mileage'].to_dict()\n",
    "\n",
    "### SUBSETTING CONDITIONS ####\n",
    "power_subset_condition = (pd.notnull(train['Power']) == False)&(train.Name.isin(power_dict))\n",
    "seats_subset_condition = (pd.notnull(train['Seats']) == False)&(train.Name.isin(seats_dict))\n",
    "engine_subset_condition = (pd.notnull(train['Engine']) == False)&(train.Name.isin(engine_dict))\n",
    "mileage_subset_condition = (pd.notnull(train['Mileage']) == False)&(train.Name.isin(mileage_dict))\n",
    "\n",
    "def impute_func(df,subset_cond,dictionary):\n",
    "    temp = df.loc[subset_cond] \n",
    "    return [dictionary[i] for i in temp.Name if i in dictionary]\n",
    "\n",
    "### Missing Values Imputation\n",
    "train.loc[power_subset_condition,'Power'] = impute_func(train,power_subset_condition,power_dict)\n",
    "train.loc[engine_subset_condition,'Engine'] = impute_func(train,engine_subset_condition,engine_dict)\n",
    "train.loc[seats_subset_condition,'Seats'] = impute_func(train,seats_subset_condition,seats_dict)\n",
    "train.loc[mileage_subset_condition,'Mileage'] = impute_func(train,mileage_subset_condition,mileage_dict)\n",
    "\n",
    "new_train = train.loc[pd.notnull(train['Power'])&pd.notnull(train['Seats'])&pd.notnull(train['Engine'])&pd.notnull(train['Mileage'])]\n",
    "print('new_train shape :',new_train.shape)\n",
    "\n",
    "print('Missing Values percentage: ',(1-(new_train.shape[0]/train.shape[0]))*100)\n",
    "print('Missing Values count: ',(train.shape[0]-new_train.shape[0]))"
   ]
  },
  {
   "cell_type": "code",
   "execution_count": null,
   "metadata": {},
   "outputs": [],
   "source": []
  },
  {
   "cell_type": "markdown",
   "metadata": {},
   "source": [
    "## ASSUMPTIONS OF LINEAR REGRESSION:\n",
    "### 1. LINEAR RELATIONSHIP BETWEEN PREDICTORS & TARGET\n",
    "### 2. NORMALITY of RESIDUALS\n",
    "### 3. NO MULTI-COLLINEARITY\n",
    "### 4. NO AUTOCORRELATION OF RESIDUALS\n",
    "### 5. NO HETERO-SKEDASTICITY "
   ]
  },
  {
   "cell_type": "markdown",
   "metadata": {},
   "source": [
    "## Check Multi-collinearity"
   ]
  },
  {
   "cell_type": "markdown",
   "metadata": {},
   "source": [
    "### Correlation-Matrix"
   ]
  },
  {
   "cell_type": "code",
   "execution_count": 20,
   "metadata": {},
   "outputs": [
    {
     "data": {
      "text/html": [
       "<div>\n",
       "<style scoped>\n",
       "    .dataframe tbody tr th:only-of-type {\n",
       "        vertical-align: middle;\n",
       "    }\n",
       "\n",
       "    .dataframe tbody tr th {\n",
       "        vertical-align: top;\n",
       "    }\n",
       "\n",
       "    .dataframe thead th {\n",
       "        text-align: right;\n",
       "    }\n",
       "</style>\n",
       "<table border=\"1\" class=\"dataframe\">\n",
       "  <thead>\n",
       "    <tr style=\"text-align: right;\">\n",
       "      <th></th>\n",
       "      <th>Year</th>\n",
       "      <th>Kilometers_Driven</th>\n",
       "      <th>Mileage</th>\n",
       "      <th>Engine</th>\n",
       "      <th>Power</th>\n",
       "      <th>Seats</th>\n",
       "      <th>Price</th>\n",
       "      <th>log_price</th>\n",
       "    </tr>\n",
       "  </thead>\n",
       "  <tbody>\n",
       "    <tr>\n",
       "      <th>Year</th>\n",
       "      <td>1.000000</td>\n",
       "      <td>-0.163437</td>\n",
       "      <td>0.269676</td>\n",
       "      <td>-0.069189</td>\n",
       "      <td>0.016083</td>\n",
       "      <td>0.008118</td>\n",
       "      <td>0.299626</td>\n",
       "      <td>0.485677</td>\n",
       "    </tr>\n",
       "    <tr>\n",
       "      <th>Kilometers_Driven</th>\n",
       "      <td>-0.163437</td>\n",
       "      <td>1.000000</td>\n",
       "      <td>-0.086831</td>\n",
       "      <td>0.092757</td>\n",
       "      <td>0.033383</td>\n",
       "      <td>0.081642</td>\n",
       "      <td>-0.003562</td>\n",
       "      <td>-0.038707</td>\n",
       "    </tr>\n",
       "    <tr>\n",
       "      <th>Mileage</th>\n",
       "      <td>0.269676</td>\n",
       "      <td>-0.086831</td>\n",
       "      <td>1.000000</td>\n",
       "      <td>-0.736316</td>\n",
       "      <td>-0.604355</td>\n",
       "      <td>-0.399464</td>\n",
       "      <td>-0.417856</td>\n",
       "      <td>-0.411987</td>\n",
       "    </tr>\n",
       "    <tr>\n",
       "      <th>Engine</th>\n",
       "      <td>-0.069189</td>\n",
       "      <td>0.092757</td>\n",
       "      <td>-0.736316</td>\n",
       "      <td>1.000000</td>\n",
       "      <td>0.863347</td>\n",
       "      <td>0.406296</td>\n",
       "      <td>0.662120</td>\n",
       "      <td>0.686999</td>\n",
       "    </tr>\n",
       "    <tr>\n",
       "      <th>Power</th>\n",
       "      <td>0.016083</td>\n",
       "      <td>0.033383</td>\n",
       "      <td>-0.604355</td>\n",
       "      <td>0.863347</td>\n",
       "      <td>1.000000</td>\n",
       "      <td>0.101994</td>\n",
       "      <td>0.781286</td>\n",
       "      <td>0.770896</td>\n",
       "    </tr>\n",
       "    <tr>\n",
       "      <th>Seats</th>\n",
       "      <td>0.008118</td>\n",
       "      <td>0.081642</td>\n",
       "      <td>-0.399464</td>\n",
       "      <td>0.406296</td>\n",
       "      <td>0.101994</td>\n",
       "      <td>1.000000</td>\n",
       "      <td>0.058094</td>\n",
       "      <td>0.167030</td>\n",
       "    </tr>\n",
       "    <tr>\n",
       "      <th>Price</th>\n",
       "      <td>0.299626</td>\n",
       "      <td>-0.003562</td>\n",
       "      <td>-0.417856</td>\n",
       "      <td>0.662120</td>\n",
       "      <td>0.781286</td>\n",
       "      <td>0.058094</td>\n",
       "      <td>1.000000</td>\n",
       "      <td>0.858635</td>\n",
       "    </tr>\n",
       "    <tr>\n",
       "      <th>log_price</th>\n",
       "      <td>0.485677</td>\n",
       "      <td>-0.038707</td>\n",
       "      <td>-0.411987</td>\n",
       "      <td>0.686999</td>\n",
       "      <td>0.770896</td>\n",
       "      <td>0.167030</td>\n",
       "      <td>0.858635</td>\n",
       "      <td>1.000000</td>\n",
       "    </tr>\n",
       "  </tbody>\n",
       "</table>\n",
       "</div>"
      ],
      "text/plain": [
       "                       Year  Kilometers_Driven   Mileage    Engine     Power  \\\n",
       "Year               1.000000          -0.163437  0.269676 -0.069189  0.016083   \n",
       "Kilometers_Driven -0.163437           1.000000 -0.086831  0.092757  0.033383   \n",
       "Mileage            0.269676          -0.086831  1.000000 -0.736316 -0.604355   \n",
       "Engine            -0.069189           0.092757 -0.736316  1.000000  0.863347   \n",
       "Power              0.016083           0.033383 -0.604355  0.863347  1.000000   \n",
       "Seats              0.008118           0.081642 -0.399464  0.406296  0.101994   \n",
       "Price              0.299626          -0.003562 -0.417856  0.662120  0.781286   \n",
       "log_price          0.485677          -0.038707 -0.411987  0.686999  0.770896   \n",
       "\n",
       "                      Seats     Price  log_price  \n",
       "Year               0.008118  0.299626   0.485677  \n",
       "Kilometers_Driven  0.081642 -0.003562  -0.038707  \n",
       "Mileage           -0.399464 -0.417856  -0.411987  \n",
       "Engine             0.406296  0.662120   0.686999  \n",
       "Power              0.101994  0.781286   0.770896  \n",
       "Seats              1.000000  0.058094   0.167030  \n",
       "Price              0.058094  1.000000   0.858635  \n",
       "log_price          0.167030  0.858635   1.000000  "
      ]
     },
     "execution_count": 20,
     "metadata": {},
     "output_type": "execute_result"
    }
   ],
   "source": [
    "new_train.drop(columns=['Id','Name','Brand','Location','Fuel_Type','Transmission','Owner_Type']).corr()"
   ]
  },
  {
   "cell_type": "markdown",
   "metadata": {},
   "source": [
    "### We can see that 'Engine' and power are highly correlated(0.863).We can drop one of these columns\n",
    "### After them, 'Mileage' and 'Engine' are highly correlated(-0.736).Better drop 'Engine' so that the correlation \n",
    "### is not much affecting the model"
   ]
  },
  {
   "cell_type": "code",
   "execution_count": 21,
   "metadata": {},
   "outputs": [],
   "source": [
    "## Pre-processing 2 ##\n",
    "new_train = new_train.drop(columns=['Engine'])"
   ]
  },
  {
   "cell_type": "markdown",
   "metadata": {},
   "source": [
    "### In our Data,\n",
    "### Continuous data - Mileage(km/kg),Kilometers_Driven,Engine(CC),Power(bhp),year\n",
    "### Categorical Data-\n",
    "###       - Nominal variables- location, Fuel_Type,Transmission \n",
    "###       - Ordinal variables- Owner_Type ,Name,Seats"
   ]
  },
  {
   "cell_type": "markdown",
   "metadata": {},
   "source": [
    "## Outlier Treatment for Contnuous variables:"
   ]
  },
  {
   "cell_type": "code",
   "execution_count": 22,
   "metadata": {},
   "outputs": [
    {
     "data": {
      "text/plain": [
       "Index(['Id', 'Name', 'Location', 'Year', 'Kilometers_Driven', 'Fuel_Type',\n",
       "       'Transmission', 'Owner_Type', 'Mileage', 'Power', 'Seats', 'Price',\n",
       "       'log_price', 'Brand'],\n",
       "      dtype='object')"
      ]
     },
     "execution_count": 22,
     "metadata": {},
     "output_type": "execute_result"
    }
   ],
   "source": [
    "new_train.columns"
   ]
  },
  {
   "cell_type": "code",
   "execution_count": 23,
   "metadata": {},
   "outputs": [
    {
     "data": {
      "text/plain": [
       "{'whiskers': [<matplotlib.lines.Line2D at 0x2b6d7bbbf60>,\n",
       "  <matplotlib.lines.Line2D at 0x2b6d7bbbc18>],\n",
       " 'caps': [<matplotlib.lines.Line2D at 0x2b6d7bbb908>,\n",
       "  <matplotlib.lines.Line2D at 0x2b6d7bbb550>],\n",
       " 'boxes': [<matplotlib.lines.Line2D at 0x2b6d7bbc2b0>],\n",
       " 'medians': [<matplotlib.lines.Line2D at 0x2b6d7bbb208>],\n",
       " 'fliers': [<matplotlib.lines.Line2D at 0x2b6d7bbae80>],\n",
       " 'means': []}"
      ]
     },
     "execution_count": 23,
     "metadata": {},
     "output_type": "execute_result"
    },
    {
     "data": {
      "image/png": "[encoded data removed]",
      "text/plain": [
       "<Figure size 432x288 with 1 Axes>"
      ]
     },
     "metadata": {},
     "output_type": "display_data"
    }
   ],
   "source": [
    "plt.boxplot(new_train.Kilometers_Driven)"
   ]
  },
  {
   "cell_type": "markdown",
   "metadata": {},
   "source": [
    "### We can see that Kilometers_Driven has 1 potential outlier(6500000).Let's see the distribution without that record"
   ]
  },
  {
   "cell_type": "code",
   "execution_count": 24,
   "metadata": {},
   "outputs": [
    {
     "data": {
      "text/plain": [
       "{'whiskers': [<matplotlib.lines.Line2D at 0x2b6d7ba7470>,\n",
       "  <matplotlib.lines.Line2D at 0x2b6d7ba70b8>],\n",
       " 'caps': [<matplotlib.lines.Line2D at 0x2b6d7ba6d30>,\n",
       "  <matplotlib.lines.Line2D at 0x2b6d7ba69b0>],\n",
       " 'boxes': [<matplotlib.lines.Line2D at 0x2b6d7ba7780>],\n",
       " 'medians': [<matplotlib.lines.Line2D at 0x2b6d7ba6630>],\n",
       " 'fliers': [<matplotlib.lines.Line2D at 0x2b6d7ba62e8>],\n",
       " 'means': []}"
      ]
     },
     "execution_count": 24,
     "metadata": {},
     "output_type": "execute_result"
    },
    {
     "data": {
      "image/png": "[encoded data removed]",
      "text/plain": [
       "<Figure size 432x288 with 1 Axes>"
      ]
     },
     "metadata": {},
     "output_type": "display_data"
    }
   ],
   "source": [
    "plt.boxplot(new_train.loc[new_train.Kilometers_Driven < 6500000,'Kilometers_Driven'])"
   ]
  },
  {
   "cell_type": "markdown",
   "metadata": {},
   "source": [
    "### I shall impute the values of Kilometers_Driven > upper_threshold to upper_threshold."
   ]
  },
  {
   "cell_type": "code",
   "execution_count": 25,
   "metadata": {},
   "outputs": [
    {
     "data": {
      "text/plain": [
       "111539.25"
      ]
     },
     "execution_count": 25,
     "metadata": {},
     "output_type": "execute_result"
    }
   ],
   "source": [
    "kms_upper_threshold = np.median(new_train.Kilometers_Driven)+(1.5*iqr(new_train.Kilometers_Driven))\n",
    "kms_upper_threshold"
   ]
  },
  {
   "cell_type": "markdown",
   "metadata": {},
   "source": [
    "### Let's not impute many records. Since, this value's gonna affect many records"
   ]
  },
  {
   "cell_type": "code",
   "execution_count": 26,
   "metadata": {},
   "outputs": [
    {
     "data": {
      "text/plain": [
       "171860.9999999997"
      ]
     },
     "execution_count": 26,
     "metadata": {},
     "output_type": "execute_result"
    }
   ],
   "source": [
    "kms_upper_threshold = np.percentile(new_train.Kilometers_Driven,99)\n",
    "kms_upper_threshold"
   ]
  },
  {
   "cell_type": "code",
   "execution_count": 27,
   "metadata": {},
   "outputs": [],
   "source": [
    "### I think this value looks fine.It doesn't affect many records.So, by having the underlying nature of Data\n",
    "### & imputing the Data that may really cause some problems.We can arrive at a trade-off at 99 percentile"
   ]
  },
  {
   "cell_type": "code",
   "execution_count": 28,
   "metadata": {},
   "outputs": [],
   "source": [
    "new_train.loc[(new_train['Kilometers_Driven'] > kms_upper_threshold ),'Kilometers_Driven'] = kms_upper_threshold"
   ]
  },
  {
   "cell_type": "code",
   "execution_count": 29,
   "metadata": {},
   "outputs": [
    {
     "data": {
      "text/plain": [
       "{'whiskers': [<matplotlib.lines.Line2D at 0x2b6d5b1c710>,\n",
       "  <matplotlib.lines.Line2D at 0x2b6d5b1c358>],\n",
       " 'caps': [<matplotlib.lines.Line2D at 0x2b6d5b1bf98>,\n",
       "  <matplotlib.lines.Line2D at 0x2b6d5b1bc50>],\n",
       " 'boxes': [<matplotlib.lines.Line2D at 0x2b6d5b1c860>],\n",
       " 'medians': [<matplotlib.lines.Line2D at 0x2b6d5b1b8d0>],\n",
       " 'fliers': [<matplotlib.lines.Line2D at 0x2b6d5b1b588>],\n",
       " 'means': []}"
      ]
     },
     "execution_count": 29,
     "metadata": {},
     "output_type": "execute_result"
    },
    {
     "data": {
      "image/png": "[encoded data removed]",
      "text/plain": [
       "<Figure size 432x288 with 1 Axes>"
      ]
     },
     "metadata": {},
     "output_type": "display_data"
    }
   ],
   "source": [
    "plt.boxplot(new_train.Kilometers_Driven)"
   ]
  },
  {
   "cell_type": "code",
   "execution_count": 30,
   "metadata": {},
   "outputs": [
    {
     "data": {
      "text/plain": [
       "{'whiskers': [<matplotlib.lines.Line2D at 0x2b6d5b0a978>,\n",
       "  <matplotlib.lines.Line2D at 0x2b6d5b0a5c0>],\n",
       " 'caps': [<matplotlib.lines.Line2D at 0x2b6d5b0a278>,\n",
       "  <matplotlib.lines.Line2D at 0x2b6d5b09ef0>],\n",
       " 'boxes': [<matplotlib.lines.Line2D at 0x2b6d5b0ab00>],\n",
       " 'medians': [<matplotlib.lines.Line2D at 0x2b6d5b0c668>],\n",
       " 'fliers': [<matplotlib.lines.Line2D at 0x2b6d5b09860>],\n",
       " 'means': []}"
      ]
     },
     "execution_count": 30,
     "metadata": {},
     "output_type": "execute_result"
    },
    {
     "data": {
      "image/png": "[encoded data removed]",
      "text/plain": [
       "<Figure size 432x288 with 1 Axes>"
      ]
     },
     "metadata": {},
     "output_type": "display_data"
    }
   ],
   "source": [
    "plt.boxplot(new_train.Mileage)"
   ]
  },
  {
   "cell_type": "markdown",
   "metadata": {},
   "source": [
    "### Those Mileage = 0 records are Electric cars.It makes sense to keep them as it is."
   ]
  },
  {
   "cell_type": "code",
   "execution_count": 31,
   "metadata": {},
   "outputs": [
    {
     "data": {
      "text/plain": [
       "{'whiskers': [<matplotlib.lines.Line2D at 0x2b6d5afc208>,\n",
       "  <matplotlib.lines.Line2D at 0x2b6d5afbe80>],\n",
       " 'caps': [<matplotlib.lines.Line2D at 0x2b6d5afbb70>,\n",
       "  <matplotlib.lines.Line2D at 0x2b6d5afeda0>],\n",
       " 'boxes': [<matplotlib.lines.Line2D at 0x2b6d5afc518>],\n",
       " 'medians': [<matplotlib.lines.Line2D at 0x2b6d5afb518>],\n",
       " 'fliers': [<matplotlib.lines.Line2D at 0x2b6d5afb1d0>],\n",
       " 'means': []}"
      ]
     },
     "execution_count": 31,
     "metadata": {},
     "output_type": "execute_result"
    },
    {
     "data": {
      "image/png": "[encoded data removed]",
      "text/plain": [
       "<Figure size 432x288 with 1 Axes>"
      ]
     },
     "metadata": {},
     "output_type": "display_data"
    }
   ],
   "source": [
    "plt.boxplot(new_train.Power)"
   ]
  },
  {
   "cell_type": "code",
   "execution_count": 32,
   "metadata": {},
   "outputs": [
    {
     "data": {
      "text/plain": [
       "296.75999999999476"
      ]
     },
     "execution_count": 32,
     "metadata": {},
     "output_type": "execute_result"
    }
   ],
   "source": [
    "power_upper_threshold = np.percentile(new_train.Power,99)\n",
    "power_upper_threshold"
   ]
  },
  {
   "cell_type": "markdown",
   "metadata": {},
   "source": [
    "### Let's make the power upper threshold as 300 "
   ]
  },
  {
   "cell_type": "code",
   "execution_count": 33,
   "metadata": {},
   "outputs": [],
   "source": [
    "power_upper_threshold  = 300\n",
    "new_train.loc[(new_train['Power'] > power_upper_threshold ),'Power']= power_upper_threshold"
   ]
  },
  {
   "cell_type": "markdown",
   "metadata": {},
   "source": [
    "### Since,Engine is being dropped.I'm not imputing outliers of that columns "
   ]
  },
  {
   "cell_type": "code",
   "execution_count": 34,
   "metadata": {},
   "outputs": [],
   "source": [
    "### I want to convert Seats to Categorical Data.Since, it can't have values as 4.4 \n",
    "new_train.Seats = new_train.Seats.astype('category')"
   ]
  },
  {
   "cell_type": "code",
   "execution_count": 35,
   "metadata": {},
   "outputs": [],
   "source": [
    "dummies_train = pd.get_dummies(new_train[['Brand','Location','Fuel_Type','Transmission','Seats']])\n",
    "owner_type_mapping = {'First' : 4,'Second': 3,'Third': 2,'Fourth & Above': 1}\n",
    "owner_type_encoded = [owner_type_mapping[i] for i in list(new_train.Owner_Type) if i in owner_type_mapping]"
   ]
  },
  {
   "cell_type": "code",
   "execution_count": 36,
   "metadata": {},
   "outputs": [],
   "source": [
    "X = pd.concat([new_train[['Id','Name','Year','Kilometers_Driven','Mileage','Power']].reset_index().drop(columns\\\n",
    "        = ['index']),dummies_train.reset_index().drop(columns = ['index']),pd.DataFrame(owner_type_encoded,\\\n",
    "                                                                                        columns=['owner_type_encoded'])],axis=1)\n",
    "y = new_train['log_price']"
   ]
  },
  {
   "cell_type": "code",
   "execution_count": 37,
   "metadata": {},
   "outputs": [],
   "source": [
    "X_train, X_test, y_train, y_test = train_test_split(X, y, test_size=0.3, random_state=42)"
   ]
  },
  {
   "cell_type": "code",
   "execution_count": 38,
   "metadata": {},
   "outputs": [
    {
     "data": {
      "text/plain": [
       "Index(['Id', 'Name', 'Year', 'Kilometers_Driven', 'Mileage', 'Power',\n",
       "       'Brand_ambassador', 'Brand_audi', 'Brand_bentley', 'Brand_bmw',\n",
       "       'Brand_chevrolet', 'Brand_datsun', 'Brand_fiat', 'Brand_force',\n",
       "       'Brand_ford', 'Brand_honda', 'Brand_hyundai', 'Brand_isuzu',\n",
       "       'Brand_jaguar', 'Brand_jeep', 'Brand_lamborghini', 'Brand_land rover',\n",
       "       'Brand_mahindra', 'Brand_maruti', 'Brand_mercedes-benz', 'Brand_mini',\n",
       "       'Brand_mitsubishi', 'Brand_nissan', 'Brand_porsche', 'Brand_renault',\n",
       "       'Brand_skoda', 'Brand_tata', 'Brand_toyota', 'Brand_volkswagen',\n",
       "       'Brand_volvo', 'Location_Ahmedabad', 'Location_Bangalore',\n",
       "       'Location_Chennai', 'Location_Coimbatore', 'Location_Delhi',\n",
       "       'Location_Hyderabad', 'Location_Jaipur', 'Location_Kochi',\n",
       "       'Location_Kolkata', 'Location_Mumbai', 'Location_Pune', 'Fuel_Type_CNG',\n",
       "       'Fuel_Type_Diesel', 'Fuel_Type_Electric', 'Fuel_Type_LPG',\n",
       "       'Fuel_Type_Petrol', 'Transmission_Automatic', 'Transmission_Manual',\n",
       "       'Seats_2.0', 'Seats_4.0', 'Seats_5.0', 'Seats_6.0', 'Seats_7.0',\n",
       "       'Seats_8.0', 'Seats_9.0', 'Seats_10.0', 'owner_type_encoded'],\n",
       "      dtype='object')"
      ]
     },
     "execution_count": 38,
     "metadata": {},
     "output_type": "execute_result"
    }
   ],
   "source": [
    "X_train.columns"
   ]
  },
  {
   "cell_type": "code",
   "execution_count": 39,
   "metadata": {},
   "outputs": [],
   "source": [
    "X_train = X_train.reset_index().drop(columns = ['index'])\n",
    "X_test = X_test.reset_index().drop(columns = ['index'])\n",
    "y_train = y_train.reset_index()['log_price']\n",
    "y_test = y_test.reset_index()['log_price']"
   ]
  },
  {
   "cell_type": "code",
   "execution_count": 40,
   "metadata": {},
   "outputs": [
    {
     "data": {
      "text/html": [
       "<div>\n",
       "<style scoped>\n",
       "    .dataframe tbody tr th:only-of-type {\n",
       "        vertical-align: middle;\n",
       "    }\n",
       "\n",
       "    .dataframe tbody tr th {\n",
       "        vertical-align: top;\n",
       "    }\n",
       "\n",
       "    .dataframe thead th {\n",
       "        text-align: right;\n",
       "    }\n",
       "</style>\n",
       "<table border=\"1\" class=\"dataframe\">\n",
       "  <thead>\n",
       "    <tr style=\"text-align: right;\">\n",
       "      <th></th>\n",
       "      <th>Year</th>\n",
       "      <th>Kilometers_Driven</th>\n",
       "      <th>Mileage</th>\n",
       "      <th>Power</th>\n",
       "      <th>Price</th>\n",
       "      <th>log_price</th>\n",
       "    </tr>\n",
       "  </thead>\n",
       "  <tbody>\n",
       "    <tr>\n",
       "      <th>Year</th>\n",
       "      <td>1.000000</td>\n",
       "      <td>-0.504449</td>\n",
       "      <td>0.269676</td>\n",
       "      <td>0.023701</td>\n",
       "      <td>0.299626</td>\n",
       "      <td>0.485677</td>\n",
       "    </tr>\n",
       "    <tr>\n",
       "      <th>Kilometers_Driven</th>\n",
       "      <td>-0.504449</td>\n",
       "      <td>1.000000</td>\n",
       "      <td>-0.220470</td>\n",
       "      <td>0.010848</td>\n",
       "      <td>-0.180995</td>\n",
       "      <td>-0.204382</td>\n",
       "    </tr>\n",
       "    <tr>\n",
       "      <th>Mileage</th>\n",
       "      <td>0.269676</td>\n",
       "      <td>-0.220470</td>\n",
       "      <td>1.000000</td>\n",
       "      <td>-0.619363</td>\n",
       "      <td>-0.417856</td>\n",
       "      <td>-0.411987</td>\n",
       "    </tr>\n",
       "    <tr>\n",
       "      <th>Power</th>\n",
       "      <td>0.023701</td>\n",
       "      <td>0.010848</td>\n",
       "      <td>-0.619363</td>\n",
       "      <td>1.000000</td>\n",
       "      <td>0.779068</td>\n",
       "      <td>0.789327</td>\n",
       "    </tr>\n",
       "    <tr>\n",
       "      <th>Price</th>\n",
       "      <td>0.299626</td>\n",
       "      <td>-0.180995</td>\n",
       "      <td>-0.417856</td>\n",
       "      <td>0.779068</td>\n",
       "      <td>1.000000</td>\n",
       "      <td>0.858635</td>\n",
       "    </tr>\n",
       "    <tr>\n",
       "      <th>log_price</th>\n",
       "      <td>0.485677</td>\n",
       "      <td>-0.204382</td>\n",
       "      <td>-0.411987</td>\n",
       "      <td>0.789327</td>\n",
       "      <td>0.858635</td>\n",
       "      <td>1.000000</td>\n",
       "    </tr>\n",
       "  </tbody>\n",
       "</table>\n",
       "</div>"
      ],
      "text/plain": [
       "                       Year  Kilometers_Driven   Mileage     Power     Price  \\\n",
       "Year               1.000000          -0.504449  0.269676  0.023701  0.299626   \n",
       "Kilometers_Driven -0.504449           1.000000 -0.220470  0.010848 -0.180995   \n",
       "Mileage            0.269676          -0.220470  1.000000 -0.619363 -0.417856   \n",
       "Power              0.023701           0.010848 -0.619363  1.000000  0.779068   \n",
       "Price              0.299626          -0.180995 -0.417856  0.779068  1.000000   \n",
       "log_price          0.485677          -0.204382 -0.411987  0.789327  0.858635   \n",
       "\n",
       "                   log_price  \n",
       "Year                0.485677  \n",
       "Kilometers_Driven  -0.204382  \n",
       "Mileage            -0.411987  \n",
       "Power               0.789327  \n",
       "Price               0.858635  \n",
       "log_price           1.000000  "
      ]
     },
     "execution_count": 40,
     "metadata": {},
     "output_type": "execute_result"
    }
   ],
   "source": [
    "new_train.drop(columns=['Id','Name','Brand','Location','Fuel_Type','Transmission','Seats','Owner_Type']).corr()"
   ]
  },
  {
   "cell_type": "code",
   "execution_count": 41,
   "metadata": {},
   "outputs": [],
   "source": [
    "feature_columns = ['Year', 'Kilometers_Driven', 'Mileage', 'Power','Brand_ambassador', 'Brand_audi', 'Brand_bentley', 'Brand_bmw',\\\n",
    "       'Brand_chevrolet', 'Brand_datsun', 'Brand_fiat', 'Brand_force','Brand_ford', 'Brand_honda', 'Brand_hyundai', 'Brand_isuzu',\\\n",
    "       'Brand_jaguar', 'Brand_jeep', 'Brand_lamborghini', 'Brand_land rover','Brand_mahindra', 'Brand_maruti','Brand_mercedes-benz',\\\n",
    "       'Brand_mini','Brand_mitsubishi', 'Brand_nissan', 'Brand_porsche', 'Brand_renault','Brand_skoda','Brand_tata','Brand_toyota',\\\n",
    "        'Brand_volkswagen','Brand_volvo', 'Location_Ahmedabad', 'Location_Bangalore','Location_Chennai', 'Location_Coimbatore',\\\n",
    "        'Location_Delhi','Location_Hyderabad', 'Location_Jaipur', 'Location_Kochi','Location_Kolkata','Location_Mumbai','Location_Pune',\\\n",
    "        'Fuel_Type_CNG','Fuel_Type_Diesel', 'Fuel_Type_Electric', 'Fuel_Type_LPG','Fuel_Type_Petrol','Transmission_Automatic',\\\n",
    "        'Transmission_Manual','Seats_2.0', 'Seats_4.0', 'Seats_5.0', 'Seats_6.0', 'Seats_7.0','Seats_8.0', 'Seats_9.0', 'Seats_10.0', 'owner_type_encoded']"
   ]
  },
  {
   "cell_type": "code",
   "execution_count": 42,
   "metadata": {},
   "outputs": [],
   "source": [
    "feature_columns = ['Year','Power','owner_type_encoded','Fuel_Type_CNG', 'Fuel_Type_Diesel','Fuel_Type_Electric',\\\n",
    "                   'Fuel_Type_LPG', 'Fuel_Type_Petrol','Kilometers_Driven','Mileage',]"
   ]
  },
  {
   "cell_type": "code",
   "execution_count": 43,
   "metadata": {},
   "outputs": [
    {
     "name": "stderr",
     "output_type": "stream",
     "text": [
      "C:\\ProgramData\\Anaconda3\\lib\\site-packages\\numpy\\core\\fromnumeric.py:2495: FutureWarning: Method .ptp is deprecated and will be removed in a future version. Use numpy.ptp instead.\n",
      "  return ptp(axis=axis, out=out, **kwargs)\n"
     ]
    }
   ],
   "source": [
    "x = sm.add_constant(X_train[feature_columns])\n",
    "y = y_train\n",
    "lm = sm.OLS(y,x).fit()"
   ]
  },
  {
   "cell_type": "code",
   "execution_count": 44,
   "metadata": {},
   "outputs": [
    {
     "name": "stdout",
     "output_type": "stream",
     "text": [
      "(3793, 11)\n",
      "(3793,)\n"
     ]
    }
   ],
   "source": [
    "print(x.shape)\n",
    "print(y.shape)"
   ]
  },
  {
   "cell_type": "code",
   "execution_count": 45,
   "metadata": {},
   "outputs": [
    {
     "data": {
      "text/html": [
       "<table class=\"simpletable\">\n",
       "<caption>OLS Regression Results</caption>\n",
       "<tr>\n",
       "  <th>Dep. Variable:</th>        <td>log_price</td>    <th>  R-squared:         </th> <td>   0.868</td>\n",
       "</tr>\n",
       "<tr>\n",
       "  <th>Model:</th>                   <td>OLS</td>       <th>  Adj. R-squared:    </th> <td>   0.868</td>\n",
       "</tr>\n",
       "<tr>\n",
       "  <th>Method:</th>             <td>Least Squares</td>  <th>  F-statistic:       </th> <td>   2769.</td>\n",
       "</tr>\n",
       "<tr>\n",
       "  <th>Date:</th>             <td>Wed, 06 Nov 2019</td> <th>  Prob (F-statistic):</th>  <td>  0.00</td> \n",
       "</tr>\n",
       "<tr>\n",
       "  <th>Time:</th>                 <td>12:58:16</td>     <th>  Log-Likelihood:    </th> <td> -975.04</td>\n",
       "</tr>\n",
       "<tr>\n",
       "  <th>No. Observations:</th>      <td>  3793</td>      <th>  AIC:               </th> <td>   1970.</td>\n",
       "</tr>\n",
       "<tr>\n",
       "  <th>Df Residuals:</th>          <td>  3783</td>      <th>  BIC:               </th> <td>   2032.</td>\n",
       "</tr>\n",
       "<tr>\n",
       "  <th>Df Model:</th>              <td>     9</td>      <th>                     </th>     <td> </td>   \n",
       "</tr>\n",
       "<tr>\n",
       "  <th>Covariance Type:</th>      <td>nonrobust</td>    <th>                     </th>     <td> </td>   \n",
       "</tr>\n",
       "</table>\n",
       "<table class=\"simpletable\">\n",
       "<tr>\n",
       "           <td></td>             <th>coef</th>     <th>std err</th>      <th>t</th>      <th>P>|t|</th>  <th>[0.025</th>    <th>0.975]</th>  \n",
       "</tr>\n",
       "<tr>\n",
       "  <th>const</th>              <td> -206.1022</td> <td>    3.480</td> <td>  -59.218</td> <td> 0.000</td> <td> -212.926</td> <td> -199.279</td>\n",
       "</tr>\n",
       "<tr>\n",
       "  <th>Year</th>               <td>    0.1234</td> <td>    0.002</td> <td>   59.275</td> <td> 0.000</td> <td>    0.119</td> <td>    0.127</td>\n",
       "</tr>\n",
       "<tr>\n",
       "  <th>Power</th>              <td>    0.0111</td> <td>    0.000</td> <td>   79.800</td> <td> 0.000</td> <td>    0.011</td> <td>    0.011</td>\n",
       "</tr>\n",
       "<tr>\n",
       "  <th>owner_type_encoded</th> <td>    0.0315</td> <td>    0.013</td> <td>    2.514</td> <td> 0.012</td> <td>    0.007</td> <td>    0.056</td>\n",
       "</tr>\n",
       "<tr>\n",
       "  <th>Fuel_Type_CNG</th>      <td>  -41.4956</td> <td>    0.700</td> <td>  -59.318</td> <td> 0.000</td> <td>  -42.867</td> <td>  -40.124</td>\n",
       "</tr>\n",
       "<tr>\n",
       "  <th>Fuel_Type_Diesel</th>   <td>  -41.2135</td> <td>    0.698</td> <td>  -59.039</td> <td> 0.000</td> <td>  -42.582</td> <td>  -39.845</td>\n",
       "</tr>\n",
       "<tr>\n",
       "  <th>Fuel_Type_Electric</th> <td>  -40.4684</td> <td>    0.726</td> <td>  -55.764</td> <td> 0.000</td> <td>  -41.891</td> <td>  -39.046</td>\n",
       "</tr>\n",
       "<tr>\n",
       "  <th>Fuel_Type_LPG</th>      <td>  -41.4179</td> <td>    0.699</td> <td>  -59.253</td> <td> 0.000</td> <td>  -42.788</td> <td>  -40.047</td>\n",
       "</tr>\n",
       "<tr>\n",
       "  <th>Fuel_Type_Petrol</th>   <td>  -41.5069</td> <td>    0.695</td> <td>  -59.728</td> <td> 0.000</td> <td>  -42.869</td> <td>  -40.144</td>\n",
       "</tr>\n",
       "<tr>\n",
       "  <th>Kilometers_Driven</th>  <td>-1.155e-06</td> <td> 2.02e-07</td> <td>   -5.720</td> <td> 0.000</td> <td>-1.55e-06</td> <td>-7.59e-07</td>\n",
       "</tr>\n",
       "<tr>\n",
       "  <th>Mileage</th>            <td>   -0.0187</td> <td>    0.001</td> <td>  -14.036</td> <td> 0.000</td> <td>   -0.021</td> <td>   -0.016</td>\n",
       "</tr>\n",
       "</table>\n",
       "<table class=\"simpletable\">\n",
       "<tr>\n",
       "  <th>Omnibus:</th>       <td>805.826</td> <th>  Durbin-Watson:     </th> <td>   2.060</td>\n",
       "</tr>\n",
       "<tr>\n",
       "  <th>Prob(Omnibus):</th> <td> 0.000</td>  <th>  Jarque-Bera (JB):  </th> <td>9823.408</td>\n",
       "</tr>\n",
       "<tr>\n",
       "  <th>Skew:</th>          <td>-0.656</td>  <th>  Prob(JB):          </th> <td>    0.00</td>\n",
       "</tr>\n",
       "<tr>\n",
       "  <th>Kurtosis:</th>      <td>10.774</td>  <th>  Cond. No.          </th> <td>3.48e+19</td>\n",
       "</tr>\n",
       "</table><br/><br/>Warnings:<br/>[1] Standard Errors assume that the covariance matrix of the errors is correctly specified.<br/>[2] The smallest eigenvalue is 1.32e-26. This might indicate that there are<br/>strong multicollinearity problems or that the design matrix is singular."
      ],
      "text/plain": [
       "<class 'statsmodels.iolib.summary.Summary'>\n",
       "\"\"\"\n",
       "                            OLS Regression Results                            \n",
       "==============================================================================\n",
       "Dep. Variable:              log_price   R-squared:                       0.868\n",
       "Model:                            OLS   Adj. R-squared:                  0.868\n",
       "Method:                 Least Squares   F-statistic:                     2769.\n",
       "Date:                Wed, 06 Nov 2019   Prob (F-statistic):               0.00\n",
       "Time:                        12:58:16   Log-Likelihood:                -975.04\n",
       "No. Observations:                3793   AIC:                             1970.\n",
       "Df Residuals:                    3783   BIC:                             2032.\n",
       "Df Model:                           9                                         \n",
       "Covariance Type:            nonrobust                                         \n",
       "======================================================================================\n",
       "                         coef    std err          t      P>|t|      [0.025      0.975]\n",
       "--------------------------------------------------------------------------------------\n",
       "const               -206.1022      3.480    -59.218      0.000    -212.926    -199.279\n",
       "Year                   0.1234      0.002     59.275      0.000       0.119       0.127\n",
       "Power                  0.0111      0.000     79.800      0.000       0.011       0.011\n",
       "owner_type_encoded     0.0315      0.013      2.514      0.012       0.007       0.056\n",
       "Fuel_Type_CNG        -41.4956      0.700    -59.318      0.000     -42.867     -40.124\n",
       "Fuel_Type_Diesel     -41.2135      0.698    -59.039      0.000     -42.582     -39.845\n",
       "Fuel_Type_Electric   -40.4684      0.726    -55.764      0.000     -41.891     -39.046\n",
       "Fuel_Type_LPG        -41.4179      0.699    -59.253      0.000     -42.788     -40.047\n",
       "Fuel_Type_Petrol     -41.5069      0.695    -59.728      0.000     -42.869     -40.144\n",
       "Kilometers_Driven  -1.155e-06   2.02e-07     -5.720      0.000   -1.55e-06   -7.59e-07\n",
       "Mileage               -0.0187      0.001    -14.036      0.000      -0.021      -0.016\n",
       "==============================================================================\n",
       "Omnibus:                      805.826   Durbin-Watson:                   2.060\n",
       "Prob(Omnibus):                  0.000   Jarque-Bera (JB):             9823.408\n",
       "Skew:                          -0.656   Prob(JB):                         0.00\n",
       "Kurtosis:                      10.774   Cond. No.                     3.48e+19\n",
       "==============================================================================\n",
       "\n",
       "Warnings:\n",
       "[1] Standard Errors assume that the covariance matrix of the errors is correctly specified.\n",
       "[2] The smallest eigenvalue is 1.32e-26. This might indicate that there are\n",
       "strong multicollinearity problems or that the design matrix is singular.\n",
       "\"\"\""
      ]
     },
     "execution_count": 45,
     "metadata": {},
     "output_type": "execute_result"
    }
   ],
   "source": [
    "lm.summary()"
   ]
  },
  {
   "cell_type": "code",
   "execution_count": 46,
   "metadata": {},
   "outputs": [
    {
     "name": "stderr",
     "output_type": "stream",
     "text": [
      "C:\\ProgramData\\Anaconda3\\lib\\site-packages\\numpy\\core\\fromnumeric.py:2495: FutureWarning: Method .ptp is deprecated and will be removed in a future version. Use numpy.ptp instead.\n",
      "  return ptp(axis=axis, out=out, **kwargs)\n"
     ]
    },
    {
     "data": {
      "text/plain": [
       "0.31289908562554225"
      ]
     },
     "execution_count": 46,
     "metadata": {},
     "output_type": "execute_result"
    }
   ],
   "source": [
    "train_predictions = lm.predict(sm.add_constant(X_train[feature_columns]))\n",
    "train_rmse = np.sqrt(metrics.mean_squared_error(y_pred = train_predictions,y_true= y_train))\n",
    "train_rmse"
   ]
  },
  {
   "cell_type": "code",
   "execution_count": 47,
   "metadata": {},
   "outputs": [
    {
     "name": "stderr",
     "output_type": "stream",
     "text": [
      "C:\\ProgramData\\Anaconda3\\lib\\site-packages\\numpy\\core\\fromnumeric.py:2495: FutureWarning: Method .ptp is deprecated and will be removed in a future version. Use numpy.ptp instead.\n",
      "  return ptp(axis=axis, out=out, **kwargs)\n"
     ]
    },
    {
     "data": {
      "text/plain": [
       "2.0146097468150876"
      ]
     },
     "execution_count": 47,
     "metadata": {},
     "output_type": "execute_result"
    }
   ],
   "source": [
    "## PREDICTIONS ####\n",
    "predictions = lm.predict(sm.add_constant(X_test[feature_columns]))\n",
    "## R-squared\n",
    "r_sq = metrics.r2_score(y_true=y_test,y_pred= predictions)\n",
    "## RMSE\n",
    "rmse = np.sqrt(metrics.mean_squared_error(y_pred = predictions,y_true= y_test))\n",
    "residuals = np.subtract(y_test,predictions)\n",
    "durbin_watson(residuals)"
   ]
  },
  {
   "cell_type": "markdown",
   "metadata": {},
   "source": [
    "### There's very minimal negative auto-correlation. It's evident from durbin-watson test statistic \n",
    "### Durbin-Watson statistic -> 2 -> No auto-corrrelation\n",
    "### Durbin-Watson statistic -> 2 - 4 -> Negative auto-corrrelation\n",
    "### Durbin-Watson statistic -> 0- 2 -> Positive auto-corrrelation"
   ]
  },
  {
   "cell_type": "code",
   "execution_count": 48,
   "metadata": {},
   "outputs": [
    {
     "data": {
      "text/plain": [
       "0.8733848415526145"
      ]
     },
     "execution_count": 48,
     "metadata": {},
     "output_type": "execute_result"
    }
   ],
   "source": [
    "## fitted model r-squared\n",
    "r_sq"
   ]
  },
  {
   "cell_type": "code",
   "execution_count": 49,
   "metadata": {},
   "outputs": [
    {
     "data": {
      "text/plain": [
       "0.3065475087998358"
      ]
     },
     "execution_count": 49,
     "metadata": {},
     "output_type": "execute_result"
    }
   ],
   "source": [
    "rmse"
   ]
  },
  {
   "cell_type": "code",
   "execution_count": 50,
   "metadata": {},
   "outputs": [
    {
     "data": {
      "text/plain": [
       "(0.9894947409629822, 1.9131749517953267e-09)"
      ]
     },
     "execution_count": 50,
     "metadata": {},
     "output_type": "execute_result"
    }
   ],
   "source": [
    "shapiro(residuals)"
   ]
  },
  {
   "cell_type": "markdown",
   "metadata": {},
   "source": [
    "### The second value in the result of shapiro represent the p-value of the shapiro test.\n",
    "### Since p-value < 0.05 ,Residuals are normal"
   ]
  },
  {
   "cell_type": "code",
   "execution_count": 72,
   "metadata": {},
   "outputs": [
    {
     "name": "stdout",
     "output_type": "stream",
     "text": [
      "{'LM Statistic': 104.46843062774059, 'LM-Test p-value': 1.9573790272099345e-18, 'F-Statistic': 11.904890292516448, 'F-Test p-value': 1.0742251212444167e-18}\n"
     ]
    }
   ],
   "source": [
    "bp_test = het_breuschpagan(lm.resid, np.array(X_train[feature_columns]))\n",
    "labels = ['LM Statistic', 'LM-Test p-value', 'F-Statistic', 'F-Test p-value']\n",
    "print(dict(zip(labels, bp_test)))"
   ]
  },
  {
   "cell_type": "markdown",
   "metadata": {},
   "source": [
    "### With this test, it's evident that the model is hetero-skedastic(both p-values < 0.05)\n",
    "### One assumption of Linear regression is violated(Modle should be homoskedastic)"
   ]
  },
  {
   "cell_type": "code",
   "execution_count": 77,
   "metadata": {},
   "outputs": [
    {
     "data": {
      "image/png": "[encoded data removed]",
      "text/plain": [
       "<Figure size 432x288 with 1 Axes>"
      ]
     },
     "metadata": {},
     "output_type": "display_data"
    }
   ],
   "source": [
    "z = (residuals-np.mean(residuals))/np.std(residuals)\n",
    "stats.probplot(z, dist=\"norm\", plot=plt)\n",
    "plt.title(\"Normal Q-Q plot\")\n",
    "plt.show()"
   ]
  },
  {
   "cell_type": "markdown",
   "metadata": {},
   "source": [
    "### From QQ-plot, it's evident that there's some hetero-skedasticity.But, I think I can't do much here to avoid it."
   ]
  },
  {
   "cell_type": "markdown",
   "metadata": {},
   "source": [
    "## VALIDATION"
   ]
  },
  {
   "cell_type": "code",
   "execution_count": null,
   "metadata": {},
   "outputs": [],
   "source": [
    "#### VALIDATION (THE FINAL SUBMISSION DATA)\n",
    "val_data = pd.read_excel('Data_Test.xlsx')\n",
    "print(val_data.shape)\n",
    "print(val_data.columns)"
   ]
  },
  {
   "cell_type": "code",
   "execution_count": null,
   "metadata": {},
   "outputs": [],
   "source": [
    "val_data.isna().sum()"
   ]
  },
  {
   "cell_type": "code",
   "execution_count": null,
   "metadata": {},
   "outputs": [],
   "source": [
    "val_data = val_data.drop(columns = ['New_Price'])"
   ]
  },
  {
   "cell_type": "code",
   "execution_count": null,
   "metadata": {},
   "outputs": [],
   "source": [
    "## REMOVING UNITS ##########\n",
    "val_data.Engine = val_data.Engine.str.replace(pat=r' CC',repl='',regex=True)\n",
    "val_data.Mileage = val_data.Mileage.str.replace(pat=r'(\\skm\\/kg)|(\\skmpl)',repl='',regex=True)\n",
    "val_data.Power = val_data.Power.str.replace(pat=r' bhp',repl='',regex=True)\n",
    "\n",
    "##For records with \"null bhp\" as Power, I'm imputing with NaN's\n",
    "val_data.loc[(val_data['Power'] == 'null'),'Power'] = np.nan\n",
    "\n",
    "##For records with \"0.0\" as Mileage, I'm imputing with NaN's\n",
    "val_data.loc[(val_data['Fuel_Type'] != 'Electric')&(val_data['Mileage'] == '0.0'),'Mileage'] = np.nan\n",
    "\n",
    "val_data.Engine = val_data.Engine.astype(float)\n",
    "val_data.Mileage = val_data.Mileage.astype(float)\n",
    "val_data.Power = val_data.Power.astype(float)\n",
    "val_data.Seats = val_data.Seats.astype(float)\n",
    "\n",
    "##For records with \"0.0\" as Mileage, I'm imputing with NaN's\n",
    "val_data.loc[(val_data['Mileage'] == 0),'Mileage'] = np.nan\n",
    "\n",
    "## Electric Cars don't have mileage. So we can impute mileage with 0 for these 2 records\n",
    "val_data.loc[(val_data['Fuel_Type'] == 'Electric'),'Mileage'] = 0\n",
    "\n",
    "##For records with \"0\" as Seats, I'm imputing with NaN's\n",
    "val_data.loc[(val_data['Seats'] == 0),'Seats'] = np.nan\n",
    "\n",
    "\n",
    "## Converting the kmpl in Mileage to km/kg using the density of Petrol & diesel(this would be approximate.\n",
    "## Since the density number is an approx figure)\n",
    "val_data.loc[(val_data['Fuel_Type'] == 'Diesel'),'Mileage'] = val_data.loc[(val_data['Fuel_Type'] == 'Diesel'),'Mileage']/(0.85)\n",
    "val_data.loc[(val_data['Fuel_Type'] == 'Petrol'),'Mileage'] = val_data.loc[(val_data['Fuel_Type'] == 'Petrol'),'Mileage']/(0.75)\n",
    "\n",
    "val_data['Brand'] = val_data['Name'].apply(get_brand_name)\n",
    "\n",
    "val_data.loc[power_subset_condition,'Power'] = impute_func(val_data,power_subset_condition,power_dict)\n",
    "val_data.loc[seats_subset_condition,'Seats'] = impute_func(val_data,seats_subset_condition,seats_dict)"
   ]
  },
  {
   "cell_type": "code",
   "execution_count": null,
   "metadata": {},
   "outputs": [],
   "source": [
    "val_data.isna().sum()"
   ]
  },
  {
   "cell_type": "code",
   "execution_count": null,
   "metadata": {},
   "outputs": [],
   "source": [
    "## IMPUTATION ##\n",
    "dict_data = pd.concat([val_data,train.drop(columns=['Price','log_price'])])\n",
    "\n",
    "non_missing_data_average_val = dict_data.groupby('Name').mean()[['Power','Seats','Engine','Mileage']]\n",
    "\n",
    "### dictionary created ##\n",
    "power_dict_val = non_missing_data_average_val['Power'].to_dict()\n",
    "mileage_dict_val = non_missing_data_average_val['Mileage'].to_dict()\n",
    "seats_dict_val = non_missing_data_average_val['Seats'].to_dict()\n",
    "\n",
    "### SUBSETTING CONDITIONS ####\n",
    "power_subset_condition_val = (pd.notnull(val_data['Power']) == False)&(val_data.Name.isin(power_dict_val))\n",
    "mileage_subset_condition_val = (pd.notnull(val_data['Mileage']) == False)&(val_data.Name.isin(mileage_dict_val))\n",
    "seats_subset_condition_val = (pd.notnull(val_data['Seats']) == False)&(val_data.Name.isin(seats_dict_val))\n",
    "def impute_func(df,subset_cond,dictionary):\n",
    "    temp = df.loc[subset_cond] \n",
    "    return [dictionary[i] for i in temp.Name if i in dictionary]\n",
    "\n",
    "### Missing Values Imputation\n",
    "val_data.loc[power_subset_condition_val,'Power'] = impute_func(val_data,power_subset_condition_val,power_dict_val)\n",
    "val_data.loc[seats_subset_condition_val,'Seats'] = impute_func(val_data,seats_subset_condition_val,seats_dict_val)\n",
    "val_data.loc[mileage_subset_condition_val,'Mileage'] = impute_func(val_data,mileage_subset_condition_val,mileage_dict_val)"
   ]
  },
  {
   "cell_type": "code",
   "execution_count": null,
   "metadata": {},
   "outputs": [],
   "source": [
    "val_data.isna().sum()"
   ]
  },
  {
   "cell_type": "code",
   "execution_count": null,
   "metadata": {},
   "outputs": [],
   "source": [
    "val_data.loc[(pd.notnull(val_data['Power']) == False) | (pd.notnull(val_data['Seats']) == False)| (pd.notnull(val_data['Mileage']) == False)]"
   ]
  },
  {
   "cell_type": "markdown",
   "metadata": {},
   "source": [
    "### Anyways, we're going to drop 'Seats' column\n",
    "### Mileage & power needs to be imputed. I'll get the avergae of Mileage & Power in each brand,engine wise & impute with those values"
   ]
  },
  {
   "cell_type": "code",
   "execution_count": null,
   "metadata": {},
   "outputs": [],
   "source": [
    "brand_eng_mileage_dict = dict_data.groupby(['Brand','Engine']).agg(lambda x:x.value_counts().index[0] if len(list(x.value_counts().index)) > 1 else x.value_counts().index)['Mileage'].to_dict()\n",
    "brand_eng_power_dict = dict_data.groupby(['Brand','Engine']).agg(lambda x:x.value_counts().index[0] if len(list(x.value_counts().index)) > 1 else x.value_counts().index)['Power'].to_dict()\n",
    "brand_eng_seats_dict = dict_data.groupby(['Brand','Engine']).agg(lambda x:x.value_counts().index[0] if len(list(x.value_counts().index)) > 1 else x.value_counts().index)['Seats'].to_dict()\n",
    "\n",
    "brand_eng_power_dict = {k:v.sum() for (k,v) in brand_eng_power_dict.items()}"
   ]
  },
  {
   "cell_type": "code",
   "execution_count": null,
   "metadata": {},
   "outputs": [],
   "source": [
    "val_data.Fuel_Type.value_counts()"
   ]
  },
  {
   "cell_type": "code",
   "execution_count": null,
   "metadata": {},
   "outputs": [],
   "source": [
    "val_data['brand_eng_key'] = val_data[['Brand','Engine']].apply(lambda ser: (ser[0],ser[1]),axis=1)"
   ]
  },
  {
   "cell_type": "code",
   "execution_count": null,
   "metadata": {},
   "outputs": [],
   "source": [
    "power_null_subset_condition = (pd.notnull(val_data['Power']) == False)&(val_data.brand_eng_key.isin(brand_eng_power_dict))\n",
    "mileage_zero_subset_condition = ((val_data['Mileage']) == 0)&(val_data.brand_eng_key.isin(brand_eng_mileage_dict))\n",
    "seats_zero_subset_condition = ((val_data['Seats']) == 0)&(val_data.brand_eng_key.isin(brand_eng_seats_dict))\n",
    "\n",
    "def impute_brand_eng_func(df,subset_cond,dictionary):\n",
    "    temp = df.loc[subset_cond] \n",
    "    val = [dictionary[i] for i in temp.brand_eng_key if i in dictionary]\n",
    "    return [i if i != 0 else np.nan for i in val]\n",
    "\n",
    "### Missing Values Imputation\n",
    "val_data.loc[power_null_subset_condition,'Power'] = impute_brand_eng_func(val_data,power_null_subset_condition,brand_eng_power_dict)\n",
    "val_data.loc[mileage_zero_subset_condition,'Mileage'] = impute_brand_eng_func(val_data,mileage_zero_subset_condition,brand_eng_mileage_dict)\n",
    "val_data.loc[seats_zero_subset_condition,'Seats'] = impute_brand_eng_func(val_data,seats_zero_subset_condition,brand_eng_seats_dict)\n",
    "\n"
   ]
  },
  {
   "cell_type": "code",
   "execution_count": null,
   "metadata": {},
   "outputs": [],
   "source": [
    "# val_data.loc[pd.notnull(val_data['Power']) ==False]\n",
    "val_data.loc[(pd.notnull(val_data['Mileage']) ==False)|(val_data['Mileage'] == 0),]"
   ]
  },
  {
   "cell_type": "code",
   "execution_count": null,
   "metadata": {},
   "outputs": [],
   "source": [
    "brand_mileage_dict = dict_data.groupby('Brand').agg(lambda x:x.value_counts().index[0] if len(list(x.value_counts().index)) > 1 else x.value_counts().index)['Mileage'].to_dict()\n",
    "brand_mileage_dict = {k:v.sum() for (k,v) in brand_mileage_dict.items()}\n",
    "brand_power_dict = dict_data.groupby('Brand').agg(lambda x:x.value_counts().index[0] if len(list(x.value_counts().index)) > 1 else x.value_counts().index)['Power'].to_dict()\n",
    "brand_power_dict = {k:v.sum() for (k,v) in brand_power_dict.items()}"
   ]
  },
  {
   "cell_type": "code",
   "execution_count": null,
   "metadata": {},
   "outputs": [],
   "source": [
    "power_cond = (pd.notnull(val_data['Power']) == False)&(val_data.Brand.isin(brand_power_dict))\n",
    "mileage_cond = ((val_data['Mileage']) == 0)&(val_data.Brand.isin(brand_mileage_dict))\n",
    "\n",
    "def impute_brand_func(df,subset_cond,dictionary):\n",
    "    temp = df.loc[subset_cond] \n",
    "    val = [dictionary[i] for i in temp.Brand if i in dictionary]\n",
    "    return [i if i != 0 else np.nan for i in val]\n",
    "\n",
    "### Missing Values Imputation\n",
    "val_data.loc[power_cond,'Power'] = impute_brand_func(val_data,power_cond,brand_power_dict)\n",
    "val_data.loc[mileage_cond,'Mileage'] = impute_brand_func(val_data,mileage_cond,brand_mileage_dict)\n",
    "\n",
    "### Considering "
   ]
  },
  {
   "cell_type": "code",
   "execution_count": null,
   "metadata": {},
   "outputs": [],
   "source": [
    "val_data.isna().drop(columns=['Engine','Seats']).sum()"
   ]
  },
  {
   "cell_type": "code",
   "execution_count": null,
   "metadata": {},
   "outputs": [],
   "source": [
    "val_data = val_data.drop(columns = ['Engine']) "
   ]
  },
  {
   "cell_type": "code",
   "execution_count": null,
   "metadata": {},
   "outputs": [],
   "source": [
    "val_data.Seats = val_data.Seats.astype('category') "
   ]
  },
  {
   "cell_type": "code",
   "execution_count": null,
   "metadata": {},
   "outputs": [],
   "source": [
    "val_data.loc[(pd.notnull(val_data['Mileage']) == False)|(val_data['Mileage'] == 0),'Mileage'] = val_data.loc[(pd.notnull(val_data['Mileage']) == True)|(val_data['Mileage'] != 0),'Mileage'].mean()\n",
    "val_data.loc[(pd.notnull(val_data['Power']) == False)|(val_data['Power'] == 0),'Power'] = val_data.loc[(pd.notnull(val_data['Power']) == True)|(val_data['Power'] != 0),'Power'].mean()\n"
   ]
  },
  {
   "cell_type": "code",
   "execution_count": null,
   "metadata": {},
   "outputs": [],
   "source": [
    "dummies_val = pd.get_dummies(val_data[['Brand','Location','Fuel_Type','Transmission','Seats']])\n",
    "owner_type_mapping = {'First' : 4,'Second': 3,'Third': 2,'Fourth & Above': 1}\n",
    "val_owner_type_encoded = [owner_type_mapping[i] for i in list(val_data.Owner_Type) if i in owner_type_mapping]"
   ]
  },
  {
   "cell_type": "code",
   "execution_count": null,
   "metadata": {},
   "outputs": [],
   "source": [
    "X_val = pd.concat([val_data[['Id','Name','Year','Kilometers_Driven','Mileage','Power']].reset_index().drop(columns\\\n",
    "        = ['index']),dummies_val.reset_index().drop(columns = ['index']),pd.DataFrame(val_owner_type_encoded,\\\n",
    "                                                                                        columns=['owner_type_encoded'])],axis=1)"
   ]
  },
  {
   "cell_type": "code",
   "execution_count": null,
   "metadata": {},
   "outputs": [],
   "source": [
    "X_val = X_val.reset_index().drop(columns = ['index'])"
   ]
  },
  {
   "cell_type": "code",
   "execution_count": null,
   "metadata": {},
   "outputs": [],
   "source": [
    "cols_to_be_added = list(set(X_test.columns) - set(X_val.columns))\n",
    "adding_cols_df = pd.DataFrame({i: [0 for i in range(X_val.shape[0])] for i in cols_to_be_added})\n",
    "X_val = pd.concat([X_val,adding_cols_df],axis=1)"
   ]
  },
  {
   "cell_type": "code",
   "execution_count": null,
   "metadata": {},
   "outputs": [],
   "source": []
  },
  {
   "cell_type": "code",
   "execution_count": null,
   "metadata": {},
   "outputs": [],
   "source": [
    "## PREDICTIONS ####\n",
    "val_preds = lm.predict(sm.add_constant(X_val[feature_columns]))"
   ]
  },
  {
   "cell_type": "markdown",
   "metadata": {},
   "source": [
    "### Atlast, we need to convert the target using exp(since, we transformed the target using log transformation)"
   ]
  },
  {
   "cell_type": "code",
   "execution_count": null,
   "metadata": {},
   "outputs": [],
   "source": [
    "predictions = [np.exp(x) for x in val_preds]"
   ]
  },
  {
   "cell_type": "code",
   "execution_count": null,
   "metadata": {},
   "outputs": [],
   "source": [
    "len(predictions)"
   ]
  },
  {
   "cell_type": "code",
   "execution_count": null,
   "metadata": {},
   "outputs": [],
   "source": [
    "ids = pd.DataFrame(list(val_data.Id),columns=['Id'])\n",
    "pred_price = pd.DataFrame(predictions,columns=['Price'])\n",
    "predicted_car_price = pd.concat([ids,pred_price],axis=1)\n",
    "predicted_car_price.to_excel('87_percent_616_Nukala_Naga_Pavan_Linear_Regression_Submission.xlsx')"
   ]
  },
  {
   "cell_type": "code",
   "execution_count": null,
   "metadata": {},
   "outputs": [],
   "source": []
  },
  {
   "cell_type": "code",
   "execution_count": null,
   "metadata": {},
   "outputs": [],
   "source": []
  },
  {
   "cell_type": "code",
   "execution_count": null,
   "metadata": {},
   "outputs": [],
   "source": [
    "%matplotlib notebook"
   ]
  },
  {
   "cell_type": "code",
   "execution_count": 1,
   "metadata": {},
   "outputs": [],
   "source": [
    "import matplotlib.pyplot as plt"
   ]
  },
  {
   "cell_type": "code",
   "execution_count": 2,
   "metadata": {},
   "outputs": [],
   "source": [
    "x = [1,5,7,9]\n",
    "y = [4,8,12,16]"
   ]
  },
  {
   "cell_type": "code",
   "execution_count": 3,
   "metadata": {},
   "outputs": [
    {
     "data": {
      "image/png": "[encoded data removed]",
      "text/plain": [
       "<Figure size 432x288 with 1 Axes>"
      ]
     },
     "metadata": {
      "needs_background": "light"
     },
     "output_type": "display_data"
    }
   ],
   "source": [
    "plt.plot(x,y)\n",
    "plt.show()"
   ]
  },
  {
   "cell_type": "code",
   "execution_count": null,
   "metadata": {},
   "outputs": [],
   "source": []
  },
  {
   "cell_type": "code",
   "execution_count": null,
   "metadata": {},
   "outputs": [],
   "source": []
  }
 ],
 "metadata": {
  "kernelspec": {
   "display_name": "Python 3",
   "language": "python",
   "name": "python3"
  },
  "language_info": {
   "codemirror_mode": {
    "name": "ipython",
    "version": 3
   },
   "file_extension": ".py",
   "mimetype": "text/x-python",
   "name": "python",
   "nbconvert_exporter": "python",
   "pygments_lexer": "ipython3",
   "version": "3.7.4"
  }
 },
 "nbformat": 4,
 "nbformat_minor": 2
}
